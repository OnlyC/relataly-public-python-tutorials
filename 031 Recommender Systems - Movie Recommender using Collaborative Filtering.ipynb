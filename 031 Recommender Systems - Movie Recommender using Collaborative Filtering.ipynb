{
 "cells": [
  {
   "cell_type": "markdown",
   "metadata": {},
   "source": [
    "# Step #1 Load the Data"
   ]
  },
  {
   "cell_type": "code",
   "execution_count": 2,
   "metadata": {},
   "outputs": [
    {
     "name": "stdout",
     "output_type": "stream",
     "text": [
      "(45466, 24)\n",
      "Index(['adult', 'belongs_to_collection', 'budget', 'genres', 'homepage', 'id',\n",
      "       'imdb_id', 'original_language', 'original_title', 'overview',\n",
      "       'popularity', 'poster_path', 'production_companies',\n",
      "       'production_countries', 'release_date', 'revenue', 'runtime',\n",
      "       'spoken_languages', 'status', 'tagline', 'title', 'video',\n",
      "       'vote_average', 'vote_count'],\n",
      "      dtype='object')\n"
     ]
    },
    {
     "data": {
      "text/html": [
       "<div>\n",
       "<style scoped>\n",
       "    .dataframe tbody tr th:only-of-type {\n",
       "        vertical-align: middle;\n",
       "    }\n",
       "\n",
       "    .dataframe tbody tr th {\n",
       "        vertical-align: top;\n",
       "    }\n",
       "\n",
       "    .dataframe thead th {\n",
       "        text-align: right;\n",
       "    }\n",
       "</style>\n",
       "<table border=\"1\" class=\"dataframe\">\n",
       "  <thead>\n",
       "    <tr style=\"text-align: right;\">\n",
       "      <th></th>\n",
       "      <th>adult</th>\n",
       "      <th>belongs_to_collection</th>\n",
       "      <th>budget</th>\n",
       "      <th>genres</th>\n",
       "      <th>homepage</th>\n",
       "      <th>id</th>\n",
       "      <th>imdb_id</th>\n",
       "      <th>original_language</th>\n",
       "      <th>original_title</th>\n",
       "      <th>overview</th>\n",
       "      <th>...</th>\n",
       "      <th>release_date</th>\n",
       "      <th>revenue</th>\n",
       "      <th>runtime</th>\n",
       "      <th>spoken_languages</th>\n",
       "      <th>status</th>\n",
       "      <th>tagline</th>\n",
       "      <th>title</th>\n",
       "      <th>video</th>\n",
       "      <th>vote_average</th>\n",
       "      <th>vote_count</th>\n",
       "    </tr>\n",
       "  </thead>\n",
       "  <tbody>\n",
       "    <tr>\n",
       "      <th>0</th>\n",
       "      <td>False</td>\n",
       "      <td>{'id': 10194, 'name': 'Toy Story Collection', ...</td>\n",
       "      <td>30000000</td>\n",
       "      <td>[{'id': 16, 'name': 'Animation'}, {'id': 35, '...</td>\n",
       "      <td>http://toystory.disney.com/toy-story</td>\n",
       "      <td>862</td>\n",
       "      <td>tt0114709</td>\n",
       "      <td>en</td>\n",
       "      <td>Toy Story</td>\n",
       "      <td>Led by Woody, Andy's toys live happily in his ...</td>\n",
       "      <td>...</td>\n",
       "      <td>1995-10-30</td>\n",
       "      <td>373554033.0</td>\n",
       "      <td>81.0</td>\n",
       "      <td>[{'iso_639_1': 'en', 'name': 'English'}]</td>\n",
       "      <td>Released</td>\n",
       "      <td>NaN</td>\n",
       "      <td>Toy Story</td>\n",
       "      <td>False</td>\n",
       "      <td>7.7</td>\n",
       "      <td>5415.0</td>\n",
       "    </tr>\n",
       "  </tbody>\n",
       "</table>\n",
       "<p>1 rows × 24 columns</p>\n",
       "</div>"
      ],
      "text/plain": [
       "   adult                              belongs_to_collection    budget  \\\n",
       "0  False  {'id': 10194, 'name': 'Toy Story Collection', ...  30000000   \n",
       "\n",
       "                                              genres  \\\n",
       "0  [{'id': 16, 'name': 'Animation'}, {'id': 35, '...   \n",
       "\n",
       "                               homepage   id    imdb_id original_language  \\\n",
       "0  http://toystory.disney.com/toy-story  862  tt0114709                en   \n",
       "\n",
       "  original_title                                           overview  ...  \\\n",
       "0      Toy Story  Led by Woody, Andy's toys live happily in his ...  ...   \n",
       "\n",
       "  release_date      revenue runtime                          spoken_languages  \\\n",
       "0   1995-10-30  373554033.0    81.0  [{'iso_639_1': 'en', 'name': 'English'}]   \n",
       "\n",
       "     status  tagline      title  video vote_average vote_count  \n",
       "0  Released      NaN  Toy Story  False          7.7     5415.0  \n",
       "\n",
       "[1 rows x 24 columns]"
      ]
     },
     "execution_count": 2,
     "metadata": {},
     "output_type": "execute_result"
    }
   ],
   "source": [
    "# A tutorial for this file is available at www.relataly.com\n",
    "\n",
    "import numpy as np\n",
    "import pandas as pd\n",
    "import matplotlib.pyplot as plt\n",
    "import seaborn as sns\n",
    "sns.set_style('white', { 'axes.spines.right': False, 'axes.spines.top': False})\n",
    "from surprise import SVD, Dataset, Reader\n",
    "from surprise.model_selection import train_test_split, cross_validate\n",
    "from ast import literal_eval\n",
    "\n",
    "\n",
    "# in case you have placed the files outside of your working directory, you need to specify a path\n",
    "path = 'data/movie_recommendations/' # for example: 'data/movie_recommendations/'  \n",
    "\n",
    "# load the movie metadata\n",
    "df_moviesmetadata=pd.read_csv(path + 'movies_metadata.csv', low_memory=False) \n",
    "print(df_moviesmetadata.shape)\n",
    "print(df_moviesmetadata.columns)\n",
    "df_moviesmetadata.head(1)"
   ]
  },
  {
   "cell_type": "code",
   "execution_count": 3,
   "metadata": {},
   "outputs": [
    {
     "name": "stdout",
     "output_type": "stream",
     "text": [
      "(100004, 4)\n",
      "Index(['userId', 'movieId', 'rating', 'timestamp'], dtype='object')\n"
     ]
    },
    {
     "data": {
      "text/html": [
       "<div>\n",
       "<style scoped>\n",
       "    .dataframe tbody tr th:only-of-type {\n",
       "        vertical-align: middle;\n",
       "    }\n",
       "\n",
       "    .dataframe tbody tr th {\n",
       "        vertical-align: top;\n",
       "    }\n",
       "\n",
       "    .dataframe thead th {\n",
       "        text-align: right;\n",
       "    }\n",
       "</style>\n",
       "<table border=\"1\" class=\"dataframe\">\n",
       "  <thead>\n",
       "    <tr style=\"text-align: right;\">\n",
       "      <th></th>\n",
       "      <th>userId</th>\n",
       "      <th>movieId</th>\n",
       "      <th>rating</th>\n",
       "      <th>timestamp</th>\n",
       "    </tr>\n",
       "  </thead>\n",
       "  <tbody>\n",
       "    <tr>\n",
       "      <th>0</th>\n",
       "      <td>1</td>\n",
       "      <td>31</td>\n",
       "      <td>2.5</td>\n",
       "      <td>1260759144</td>\n",
       "    </tr>\n",
       "    <tr>\n",
       "      <th>1</th>\n",
       "      <td>1</td>\n",
       "      <td>1029</td>\n",
       "      <td>3.0</td>\n",
       "      <td>1260759179</td>\n",
       "    </tr>\n",
       "    <tr>\n",
       "      <th>2</th>\n",
       "      <td>1</td>\n",
       "      <td>1061</td>\n",
       "      <td>3.0</td>\n",
       "      <td>1260759182</td>\n",
       "    </tr>\n",
       "  </tbody>\n",
       "</table>\n",
       "</div>"
      ],
      "text/plain": [
       "   userId  movieId  rating   timestamp\n",
       "0       1       31     2.5  1260759144\n",
       "1       1     1029     3.0  1260759179\n",
       "2       1     1061     3.0  1260759182"
      ]
     },
     "execution_count": 3,
     "metadata": {},
     "output_type": "execute_result"
    }
   ],
   "source": [
    "# load the movie ratings\n",
    "df_ratings=pd.read_csv(path + 'ratings_small.csv', low_memory=False) \n",
    "\n",
    "print(df_ratings.shape)\n",
    "print(df_ratings.columns)\n",
    "df_ratings.head(3)"
   ]
  },
  {
   "cell_type": "code",
   "execution_count": 30,
   "metadata": {},
   "outputs": [
    {
     "data": {
      "text/plain": [
       "<seaborn.axisgrid.FacetGrid at 0x191489bd520>"
      ]
     },
     "execution_count": 30,
     "metadata": {},
     "output_type": "execute_result"
    },
    {
     "data": {
      "image/png": "[encoded data removed]",
      "text/plain": [
       "<Figure size 648x432 with 1 Axes>"
      ]
     },
     "metadata": {},
     "output_type": "display_data"
    }
   ],
   "source": [
    "sns.displot(data=df_ratings, x='rating', kind='kde', aspect=1.5, height=6)"
   ]
  },
  {
   "cell_type": "markdown",
   "metadata": {},
   "source": [
    "# Step #2 Preprocessing and Cleaning the Data"
   ]
  },
  {
   "cell_type": "code",
   "execution_count": 5,
   "metadata": {},
   "outputs": [
    {
     "data": {
      "text/html": [
       "<div>\n",
       "<style scoped>\n",
       "    .dataframe tbody tr th:only-of-type {\n",
       "        vertical-align: middle;\n",
       "    }\n",
       "\n",
       "    .dataframe tbody tr th {\n",
       "        vertical-align: top;\n",
       "    }\n",
       "\n",
       "    .dataframe thead th {\n",
       "        text-align: right;\n",
       "    }\n",
       "</style>\n",
       "<table border=\"1\" class=\"dataframe\">\n",
       "  <thead>\n",
       "    <tr style=\"text-align: right;\">\n",
       "      <th></th>\n",
       "      <th>title</th>\n",
       "      <th>vote_count</th>\n",
       "      <th>vote_average</th>\n",
       "      <th>year</th>\n",
       "      <th>genres</th>\n",
       "    </tr>\n",
       "    <tr>\n",
       "      <th>movieId</th>\n",
       "      <th></th>\n",
       "      <th></th>\n",
       "      <th></th>\n",
       "      <th></th>\n",
       "      <th></th>\n",
       "    </tr>\n",
       "  </thead>\n",
       "  <tbody>\n",
       "    <tr>\n",
       "      <th>862</th>\n",
       "      <td>Toy Story</td>\n",
       "      <td>5415</td>\n",
       "      <td>7.7</td>\n",
       "      <td>1995</td>\n",
       "      <td>[Animation, Comedy, Family]</td>\n",
       "    </tr>\n",
       "    <tr>\n",
       "      <th>8844</th>\n",
       "      <td>Jumanji</td>\n",
       "      <td>2413</td>\n",
       "      <td>6.9</td>\n",
       "      <td>1995</td>\n",
       "      <td>[Adventure, Fantasy, Family]</td>\n",
       "    </tr>\n",
       "    <tr>\n",
       "      <th>15602</th>\n",
       "      <td>Grumpier Old Men</td>\n",
       "      <td>92</td>\n",
       "      <td>6.5</td>\n",
       "      <td>1995</td>\n",
       "      <td>[Romance, Comedy]</td>\n",
       "    </tr>\n",
       "    <tr>\n",
       "      <th>31357</th>\n",
       "      <td>Waiting to Exhale</td>\n",
       "      <td>34</td>\n",
       "      <td>6.1</td>\n",
       "      <td>1995</td>\n",
       "      <td>[Comedy, Drama, Romance]</td>\n",
       "    </tr>\n",
       "    <tr>\n",
       "      <th>11862</th>\n",
       "      <td>Father of the Bride Part II</td>\n",
       "      <td>173</td>\n",
       "      <td>5.7</td>\n",
       "      <td>1995</td>\n",
       "      <td>[Comedy]</td>\n",
       "    </tr>\n",
       "    <tr>\n",
       "      <th>...</th>\n",
       "      <td>...</td>\n",
       "      <td>...</td>\n",
       "      <td>...</td>\n",
       "      <td>...</td>\n",
       "      <td>...</td>\n",
       "    </tr>\n",
       "    <tr>\n",
       "      <th>49279</th>\n",
       "      <td>The Man with the Rubber Head</td>\n",
       "      <td>29</td>\n",
       "      <td>7.6</td>\n",
       "      <td>1901</td>\n",
       "      <td>[Comedy, Fantasy, Science Fiction]</td>\n",
       "    </tr>\n",
       "    <tr>\n",
       "      <th>49271</th>\n",
       "      <td>The Devilish Tenant</td>\n",
       "      <td>12</td>\n",
       "      <td>6.7</td>\n",
       "      <td>1909</td>\n",
       "      <td>[Fantasy, Comedy]</td>\n",
       "    </tr>\n",
       "    <tr>\n",
       "      <th>49280</th>\n",
       "      <td>The One-Man Band</td>\n",
       "      <td>22</td>\n",
       "      <td>6.5</td>\n",
       "      <td>1900</td>\n",
       "      <td>[Fantasy, Action, Thriller]</td>\n",
       "    </tr>\n",
       "    <tr>\n",
       "      <th>404604</th>\n",
       "      <td>Mom</td>\n",
       "      <td>14</td>\n",
       "      <td>6.6</td>\n",
       "      <td>2017</td>\n",
       "      <td>[Crime, Drama, Thriller]</td>\n",
       "    </tr>\n",
       "    <tr>\n",
       "      <th>30840</th>\n",
       "      <td>Robin Hood</td>\n",
       "      <td>26</td>\n",
       "      <td>5.7</td>\n",
       "      <td>1991</td>\n",
       "      <td>[Drama, Action, Romance]</td>\n",
       "    </tr>\n",
       "  </tbody>\n",
       "</table>\n",
       "<p>22931 rows × 5 columns</p>\n",
       "</div>"
      ],
      "text/plain": [
       "                                title  vote_count  vote_average  year  \\\n",
       "movieId                                                                 \n",
       "862                         Toy Story        5415           7.7  1995   \n",
       "8844                          Jumanji        2413           6.9  1995   \n",
       "15602                Grumpier Old Men          92           6.5  1995   \n",
       "31357               Waiting to Exhale          34           6.1  1995   \n",
       "11862     Father of the Bride Part II         173           5.7  1995   \n",
       "...                               ...         ...           ...   ...   \n",
       "49279    The Man with the Rubber Head          29           7.6  1901   \n",
       "49271             The Devilish Tenant          12           6.7  1909   \n",
       "49280                The One-Man Band          22           6.5  1900   \n",
       "404604                            Mom          14           6.6  2017   \n",
       "30840                      Robin Hood          26           5.7  1991   \n",
       "\n",
       "                                     genres  \n",
       "movieId                                      \n",
       "862             [Animation, Comedy, Family]  \n",
       "8844           [Adventure, Fantasy, Family]  \n",
       "15602                     [Romance, Comedy]  \n",
       "31357              [Comedy, Drama, Romance]  \n",
       "11862                              [Comedy]  \n",
       "...                                     ...  \n",
       "49279    [Comedy, Fantasy, Science Fiction]  \n",
       "49271                     [Fantasy, Comedy]  \n",
       "49280           [Fantasy, Action, Thriller]  \n",
       "404604             [Crime, Drama, Thriller]  \n",
       "30840              [Drama, Action, Romance]  \n",
       "\n",
       "[22931 rows x 5 columns]"
      ]
     },
     "execution_count": 5,
     "metadata": {},
     "output_type": "execute_result"
    }
   ],
   "source": [
    "# 2.1 Movies Data\n",
    "\n",
    "# remove invalid records with invalid ids\n",
    "df_mmeta = df_moviesmetadata.drop([19730, 29503, 35587])\n",
    "\n",
    "df_movies = pd.DataFrame()\n",
    "\n",
    "# we only consider movies with at least 10 ratings\n",
    "df_movies = df_mmeta[(df_mmeta['vote_count'] >= 10) & (df_mmeta['vote_average'].notnull())][['title','vote_count','vote_average']]\n",
    "\n",
    "# extract the release year \n",
    "df_movies['year'] = pd.to_datetime(df_mmeta['release_date'], errors='coerce').apply(lambda x: str(x).split('-')[0] if x != np.nan else np.nan)\n",
    "\n",
    "# extract genres\n",
    "df_movies['genres'] = df_mmeta['genres'].fillna('[]').apply(literal_eval).apply(lambda x: [i['name'] for i in x] if isinstance(x, list) else [])\n",
    "\n",
    "# change the index to movie_id\n",
    "df_movies['movieId'] = pd.to_numeric(df_mmeta['id'])\n",
    "df_movies = df_movies.set_index('movieId')\n",
    "\n",
    "# add vote count\n",
    "df_movies['vote_count'] = df_movies['vote_count'].astype('int')\n",
    "df_movies"
   ]
  },
  {
   "cell_type": "code",
   "execution_count": 72,
   "metadata": {},
   "outputs": [
    {
     "data": {
      "text/plain": [
       "<seaborn.axisgrid.FacetGrid at 0x1913631c850>"
      ]
     },
     "execution_count": 72,
     "metadata": {},
     "output_type": "execute_result"
    }
   ],
   "source": [
    "# Continue Exploring the Data\n",
    "split_df = pd.DataFrame(df_movies['genres'].tolist())\n",
    "df_merged = pd.concat([split_df.set_index(df_movies.index), df_movies], axis=1)\n",
    "sns.displot(data=df_merged, x='vote_average', kind='kde', hue=0, aspect=1.5, height=8)"
   ]
  },
  {
   "cell_type": "code",
   "execution_count": 6,
   "metadata": {
    "scrolled": false
   },
   "outputs": [
    {
     "name": "stdout",
     "output_type": "stream",
     "text": [
      "unique users: 671, ratings: 100004\n"
     ]
    },
    {
     "data": {
      "text/html": [
       "<div>\n",
       "<style scoped>\n",
       "    .dataframe tbody tr th:only-of-type {\n",
       "        vertical-align: middle;\n",
       "    }\n",
       "\n",
       "    .dataframe tbody tr th {\n",
       "        vertical-align: top;\n",
       "    }\n",
       "\n",
       "    .dataframe thead th {\n",
       "        text-align: right;\n",
       "    }\n",
       "</style>\n",
       "<table border=\"1\" class=\"dataframe\">\n",
       "  <thead>\n",
       "    <tr style=\"text-align: right;\">\n",
       "      <th></th>\n",
       "      <th>userId</th>\n",
       "      <th>movieId</th>\n",
       "      <th>rating</th>\n",
       "      <th>timestamp</th>\n",
       "    </tr>\n",
       "  </thead>\n",
       "  <tbody>\n",
       "    <tr>\n",
       "      <th>0</th>\n",
       "      <td>1</td>\n",
       "      <td>31</td>\n",
       "      <td>2.5</td>\n",
       "      <td>2009-12-14 02:52:24</td>\n",
       "    </tr>\n",
       "    <tr>\n",
       "      <th>1</th>\n",
       "      <td>1</td>\n",
       "      <td>1029</td>\n",
       "      <td>3.0</td>\n",
       "      <td>2009-12-14 02:52:59</td>\n",
       "    </tr>\n",
       "    <tr>\n",
       "      <th>2</th>\n",
       "      <td>1</td>\n",
       "      <td>1061</td>\n",
       "      <td>3.0</td>\n",
       "      <td>2009-12-14 02:53:02</td>\n",
       "    </tr>\n",
       "    <tr>\n",
       "      <th>3</th>\n",
       "      <td>1</td>\n",
       "      <td>1129</td>\n",
       "      <td>2.0</td>\n",
       "      <td>2009-12-14 02:53:05</td>\n",
       "    </tr>\n",
       "    <tr>\n",
       "      <th>4</th>\n",
       "      <td>1</td>\n",
       "      <td>1172</td>\n",
       "      <td>4.0</td>\n",
       "      <td>2009-12-14 02:53:25</td>\n",
       "    </tr>\n",
       "  </tbody>\n",
       "</table>\n",
       "</div>"
      ],
      "text/plain": [
       "   userId  movieId  rating           timestamp\n",
       "0       1       31     2.5 2009-12-14 02:52:24\n",
       "1       1     1029     3.0 2009-12-14 02:52:59\n",
       "2       1     1061     3.0 2009-12-14 02:53:02\n",
       "3       1     1129     2.0 2009-12-14 02:53:05\n",
       "4       1     1172     4.0 2009-12-14 02:53:25"
      ]
     },
     "execution_count": 6,
     "metadata": {},
     "output_type": "execute_result"
    }
   ],
   "source": [
    "# 2.2 Ratings Data\n",
    "\n",
    "# Drop na values\n",
    "df_ratings_temp = df_ratings.dropna()\n",
    "\n",
    "# Convert datetime\n",
    "df_ratings_temp['timestamp'] =  pd. to_datetime(df_ratings_temp['timestamp'], unit='s')\n",
    "\n",
    "print(f'unique users: {len(df_ratings_temp.userId.unique())}, ratings: {len(df_ratings_temp)}')\n",
    "df_ratings_temp.head()"
   ]
  },
  {
   "cell_type": "markdown",
   "metadata": {},
   "source": [
    "# Step #3 Split the Data in Train and Test"
   ]
  },
  {
   "cell_type": "code",
   "execution_count": 7,
   "metadata": {},
   "outputs": [],
   "source": [
    "# The Reader class is used to parse a file containing ratings.\n",
    "# The file is assumed to specify only one rating per line, such as in the df_ratings_temp file above.\n",
    "reader = Reader()\n",
    "ratings_by_users = Dataset.load_from_df(df_ratings_temp[['userId', 'movieId', 'rating']], reader)\n",
    "\n",
    "# Split the Data into train and test\n",
    "train_df, test_df = train_test_split(ratings_by_users, test_size=.2)"
   ]
  },
  {
   "cell_type": "markdown",
   "metadata": {},
   "source": [
    "# Step #4 Train an SVD Model"
   ]
  },
  {
   "cell_type": "code",
   "execution_count": 8,
   "metadata": {},
   "outputs": [],
   "source": [
    "# train an SVD model\n",
    "svd_model = SVD()\n",
    "svd_model_trained = svd_model.fit(train_df)"
   ]
  },
  {
   "cell_type": "markdown",
   "metadata": {},
   "source": [
    "# Step #5 Evaluate Prediction Performance using Cross-Validation"
   ]
  },
  {
   "cell_type": "code",
   "execution_count": 9,
   "metadata": {
    "scrolled": true
   },
   "outputs": [
    {
     "data": {
      "text/plain": [
       "<AxesSubplot:ylabel='Mean Absolute Error'>"
      ]
     },
     "execution_count": 9,
     "metadata": {},
     "output_type": "execute_result"
    },
    {
     "data": {
      "image/png": "[encoded data removed]",
      "text/plain": [
       "<Figure size 432x288 with 1 Axes>"
      ]
     },
     "metadata": {},
     "output_type": "display_data"
    }
   ],
   "source": [
    "# 10-fold cross validation \n",
    "cross_val_results = cross_validate(svd_model_trained, ratings_by_users, measures=['RMSE', 'MAE', 'MSE'], cv=10, verbose=False)\n",
    "test_mae = cross_val_results['test_mae']\n",
    "\n",
    "# mean squared errors per fold\n",
    "df_test_mae = pd.DataFrame(test_mae, columns=['Mean Absolute Error'])\n",
    "df_test_mae.index = np.arange(1, len(df_test_mae) + 1)\n",
    "df_test_mae.sort_values(by='Mean Absolute Error', ascending=False).head(15)\n",
    "\n",
    "# plot an overview of the performance per fold\n",
    "plt.figure(figsize=(6,4))\n",
    "sns.barplot(y='Mean Absolute Error', x=df_test_mae.index, data=df_test_mae, color=\"b\")\n",
    "# plt.title('Mean Absolute Error')"
   ]
  },
  {
   "cell_type": "markdown",
   "metadata": {},
   "source": [
    "# Step #6 Generate Predictions for UserId and MovieId"
   ]
  },
  {
   "cell_type": "code",
   "execution_count": 10,
   "metadata": {},
   "outputs": [
    {
     "name": "stdout",
     "output_type": "stream",
     "text": [
      "Movie title: Toy Story\n",
      "Actual rating: 4.5\n",
      "user: 217        item: 4002       r_ui = 4.50   est = 4.06   {'was_impossible': False}\n"
     ]
    }
   ],
   "source": [
    "# predict ratings for the combination of user_id and movie_id\n",
    "user_id = 217 # some test user from the ratings file\n",
    "movie_id = 4002\n",
    "rating_real = df_ratings.query(f'movieId == {movie_id} & userId == {user_id}')['rating'].values[0]\n",
    "movie_title = df_movies[df_movies.index == 862]['title'].values[0]\n",
    "\n",
    "print(f'Movie title: {movie_title}')\n",
    "print(f'Actual rating: {rating_real}')\n",
    "\n",
    "# predict and show the result\n",
    "rating_pred = svd_model_trained.predict(user_id, movie_id, rating_real, verbose=True)"
   ]
  },
  {
   "cell_type": "code",
   "execution_count": 11,
   "metadata": {},
   "outputs": [
    {
     "name": "stdout",
     "output_type": "stream",
     "text": [
      "number of ratings: 58\n"
     ]
    },
    {
     "data": {
      "text/html": [
       "<div>\n",
       "<style scoped>\n",
       "    .dataframe tbody tr th:only-of-type {\n",
       "        vertical-align: middle;\n",
       "    }\n",
       "\n",
       "    .dataframe tbody tr th {\n",
       "        vertical-align: top;\n",
       "    }\n",
       "\n",
       "    .dataframe thead th {\n",
       "        text-align: right;\n",
       "    }\n",
       "</style>\n",
       "<table border=\"1\" class=\"dataframe\">\n",
       "  <thead>\n",
       "    <tr style=\"text-align: right;\">\n",
       "      <th></th>\n",
       "      <th>movieId</th>\n",
       "      <th>title</th>\n",
       "      <th>predicted_rating</th>\n",
       "      <th>actual_rating</th>\n",
       "    </tr>\n",
       "  </thead>\n",
       "  <tbody>\n",
       "    <tr>\n",
       "      <th>8880</th>\n",
       "      <td>1247</td>\n",
       "      <td>The Good Shepherd</td>\n",
       "      <td>4.592645</td>\n",
       "      <td>0.0</td>\n",
       "    </tr>\n",
       "    <tr>\n",
       "      <th>3194</th>\n",
       "      <td>318</td>\n",
       "      <td>The Million Dollar Hotel</td>\n",
       "      <td>4.572653</td>\n",
       "      <td>5.0</td>\n",
       "    </tr>\n",
       "    <tr>\n",
       "      <th>514</th>\n",
       "      <td>954</td>\n",
       "      <td>Mission: Impossible</td>\n",
       "      <td>4.530106</td>\n",
       "      <td>0.0</td>\n",
       "    </tr>\n",
       "    <tr>\n",
       "      <th>3361</th>\n",
       "      <td>1089</td>\n",
       "      <td>Point Break</td>\n",
       "      <td>4.487774</td>\n",
       "      <td>0.0</td>\n",
       "    </tr>\n",
       "    <tr>\n",
       "      <th>16409</th>\n",
       "      <td>4226</td>\n",
       "      <td>Shriek If You Know What I Did Last Friday the ...</td>\n",
       "      <td>4.447977</td>\n",
       "      <td>0.0</td>\n",
       "    </tr>\n",
       "    <tr>\n",
       "      <th>2671</th>\n",
       "      <td>593</td>\n",
       "      <td>Solaris</td>\n",
       "      <td>4.439145</td>\n",
       "      <td>3.0</td>\n",
       "    </tr>\n",
       "    <tr>\n",
       "      <th>6532</th>\n",
       "      <td>905</td>\n",
       "      <td>Pandora's Box</td>\n",
       "      <td>4.432316</td>\n",
       "      <td>0.0</td>\n",
       "    </tr>\n",
       "    <tr>\n",
       "      <th>2426</th>\n",
       "      <td>926</td>\n",
       "      <td>Galaxy Quest</td>\n",
       "      <td>4.426633</td>\n",
       "      <td>0.0</td>\n",
       "    </tr>\n",
       "    <tr>\n",
       "      <th>442</th>\n",
       "      <td>858</td>\n",
       "      <td>Sleepless in Seattle</td>\n",
       "      <td>4.415908</td>\n",
       "      <td>0.0</td>\n",
       "    </tr>\n",
       "    <tr>\n",
       "      <th>691</th>\n",
       "      <td>1939</td>\n",
       "      <td>Laura</td>\n",
       "      <td>4.398042</td>\n",
       "      <td>0.0</td>\n",
       "    </tr>\n",
       "    <tr>\n",
       "      <th>5400</th>\n",
       "      <td>899</td>\n",
       "      <td>Broken Blossoms</td>\n",
       "      <td>4.384371</td>\n",
       "      <td>0.0</td>\n",
       "    </tr>\n",
       "    <tr>\n",
       "      <th>10853</th>\n",
       "      <td>2973</td>\n",
       "      <td>Aelita: Queen of Mars</td>\n",
       "      <td>4.369224</td>\n",
       "      <td>0.0</td>\n",
       "    </tr>\n",
       "    <tr>\n",
       "      <th>232</th>\n",
       "      <td>1945</td>\n",
       "      <td>Nell</td>\n",
       "      <td>4.368746</td>\n",
       "      <td>0.0</td>\n",
       "    </tr>\n",
       "    <tr>\n",
       "      <th>3295</th>\n",
       "      <td>4973</td>\n",
       "      <td>Under the Sand</td>\n",
       "      <td>4.366796</td>\n",
       "      <td>0.0</td>\n",
       "    </tr>\n",
       "    <tr>\n",
       "      <th>4871</th>\n",
       "      <td>6016</td>\n",
       "      <td>The Good Thief</td>\n",
       "      <td>4.341854</td>\n",
       "      <td>0.0</td>\n",
       "    </tr>\n",
       "  </tbody>\n",
       "</table>\n",
       "</div>"
      ],
      "text/plain": [
       "       movieId                                              title  \\\n",
       "8880      1247                                  The Good Shepherd   \n",
       "3194       318                           The Million Dollar Hotel   \n",
       "514        954                                Mission: Impossible   \n",
       "3361      1089                                        Point Break   \n",
       "16409     4226  Shriek If You Know What I Did Last Friday the ...   \n",
       "2671       593                                            Solaris   \n",
       "6532       905                                      Pandora's Box   \n",
       "2426       926                                       Galaxy Quest   \n",
       "442        858                               Sleepless in Seattle   \n",
       "691       1939                                              Laura   \n",
       "5400       899                                    Broken Blossoms   \n",
       "10853     2973                              Aelita: Queen of Mars   \n",
       "232       1945                                               Nell   \n",
       "3295      4973                                     Under the Sand   \n",
       "4871      6016                                     The Good Thief   \n",
       "\n",
       "       predicted_rating  actual_rating  \n",
       "8880           4.592645            0.0  \n",
       "3194           4.572653            5.0  \n",
       "514            4.530106            0.0  \n",
       "3361           4.487774            0.0  \n",
       "16409          4.447977            0.0  \n",
       "2671           4.439145            3.0  \n",
       "6532           4.432316            0.0  \n",
       "2426           4.426633            0.0  \n",
       "442            4.415908            0.0  \n",
       "691            4.398042            0.0  \n",
       "5400           4.384371            0.0  \n",
       "10853          4.369224            0.0  \n",
       "232            4.368746            0.0  \n",
       "3295           4.366796            0.0  \n",
       "4871           4.341854            0.0  "
      ]
     },
     "execution_count": 11,
     "metadata": {},
     "output_type": "execute_result"
    }
   ],
   "source": [
    "# predict ratings for a single user_id and for all movies\n",
    "user_id = 400 # some test user from the ratings file\n",
    "\n",
    "# create the predictions\n",
    "pred_series= []\n",
    "df_ratings_filtered = df_ratings[df_ratings['userId'] == user_id]\n",
    "\n",
    "print(f'number of ratings: {df_ratings_filtered.shape[0]}')\n",
    "for movie_id, name in zip(df_movies.index, df_movies['title']):\n",
    "    # check if the user has already rated a specific movie from the list\n",
    "    rating_real = df_ratings.query(f'movieId == {movie_id}')['rating'].values[0] if movie_id in df_ratings_filtered['movieId'].values else 0\n",
    "    # generate the prediction\n",
    "    rating_pred = svd_model_trained.predict(user_id, movie_id, rating_real, verbose=False)\n",
    "    # add the prediction to the list of predictions\n",
    "    pred_series.append([movie_id, name, rating_pred.est, rating_real])\n",
    "\n",
    "# print the results\n",
    "df_recommendations = pd.DataFrame(pred_series, columns=['movieId', 'title', 'predicted_rating', 'actual_rating'])\n",
    "df_recommendations.sort_values(by='predicted_rating', ascending=False).head(15)"
   ]
  }
 ],
 "metadata": {
  "interpreter": {
   "hash": "38b6c26bd9870504e27f7883362b971e6afb0a02e23f00032a9076a16838eb05"
  },
  "kernelspec": {
   "display_name": "Python 3.8.8 ('base')",
   "language": "python",
   "name": "python3"
  },
  "language_info": {
   "codemirror_mode": {
    "name": "ipython",
    "version": 3
   },
   "file_extension": ".py",
   "mimetype": "text/x-python",
   "name": "python",
   "nbconvert_exporter": "python",
   "pygments_lexer": "ipython3",
   "version": "3.8.8"
  }
 },
 "nbformat": 4,
 "nbformat_minor": 4
}
