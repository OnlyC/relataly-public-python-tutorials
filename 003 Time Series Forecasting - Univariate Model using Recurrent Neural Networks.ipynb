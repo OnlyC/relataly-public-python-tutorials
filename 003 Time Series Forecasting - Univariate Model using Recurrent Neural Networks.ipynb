{
 "cells": [
  {
   "cell_type": "markdown",
   "metadata": {},
   "source": [
    "# Step #1 Load the Data"
   ]
  },
  {
   "cell_type": "code",
   "execution_count": 1,
   "metadata": {},
   "outputs": [
    {
     "name": "stdout",
     "output_type": "stream",
     "text": [
      "Tensorflow Version: 2.5.0\n",
      "Num GPUs: 0\n",
      "[*********************100%***********************]  1 of 1 completed\n",
      "(3105, 6)\n"
     ]
    },
    {
     "data": {
      "text/html": [
       "<div>\n",
       "<style scoped>\n",
       "    .dataframe tbody tr th:only-of-type {\n",
       "        vertical-align: middle;\n",
       "    }\n",
       "\n",
       "    .dataframe tbody tr th {\n",
       "        vertical-align: top;\n",
       "    }\n",
       "\n",
       "    .dataframe thead th {\n",
       "        text-align: right;\n",
       "    }\n",
       "</style>\n",
       "<table border=\"1\" class=\"dataframe\">\n",
       "  <thead>\n",
       "    <tr style=\"text-align: right;\">\n",
       "      <th></th>\n",
       "      <th>Open</th>\n",
       "      <th>High</th>\n",
       "      <th>Low</th>\n",
       "      <th>Close</th>\n",
       "      <th>Adj Close</th>\n",
       "      <th>Volume</th>\n",
       "    </tr>\n",
       "    <tr>\n",
       "      <th>Date</th>\n",
       "      <th></th>\n",
       "      <th></th>\n",
       "      <th></th>\n",
       "      <th></th>\n",
       "      <th></th>\n",
       "      <th></th>\n",
       "    </tr>\n",
       "  </thead>\n",
       "  <tbody>\n",
       "    <tr>\n",
       "      <th>2009-12-31</th>\n",
       "      <td>1126.599976</td>\n",
       "      <td>1127.640015</td>\n",
       "      <td>1114.810059</td>\n",
       "      <td>1115.099976</td>\n",
       "      <td>1115.099976</td>\n",
       "      <td>2076990000</td>\n",
       "    </tr>\n",
       "    <tr>\n",
       "      <th>2010-01-04</th>\n",
       "      <td>1116.560059</td>\n",
       "      <td>1133.869995</td>\n",
       "      <td>1116.560059</td>\n",
       "      <td>1132.989990</td>\n",
       "      <td>1132.989990</td>\n",
       "      <td>3991400000</td>\n",
       "    </tr>\n",
       "    <tr>\n",
       "      <th>2010-01-05</th>\n",
       "      <td>1132.660034</td>\n",
       "      <td>1136.630005</td>\n",
       "      <td>1129.660034</td>\n",
       "      <td>1136.520020</td>\n",
       "      <td>1136.520020</td>\n",
       "      <td>2491020000</td>\n",
       "    </tr>\n",
       "    <tr>\n",
       "      <th>2010-01-06</th>\n",
       "      <td>1135.709961</td>\n",
       "      <td>1139.189941</td>\n",
       "      <td>1133.949951</td>\n",
       "      <td>1137.140015</td>\n",
       "      <td>1137.140015</td>\n",
       "      <td>4972660000</td>\n",
       "    </tr>\n",
       "    <tr>\n",
       "      <th>2010-01-07</th>\n",
       "      <td>1136.270020</td>\n",
       "      <td>1142.459961</td>\n",
       "      <td>1131.319946</td>\n",
       "      <td>1141.689941</td>\n",
       "      <td>1141.689941</td>\n",
       "      <td>5270680000</td>\n",
       "    </tr>\n",
       "  </tbody>\n",
       "</table>\n",
       "</div>"
      ],
      "text/plain": [
       "                   Open         High          Low        Close    Adj Close  \\\n",
       "Date                                                                          \n",
       "2009-12-31  1126.599976  1127.640015  1114.810059  1115.099976  1115.099976   \n",
       "2010-01-04  1116.560059  1133.869995  1116.560059  1132.989990  1132.989990   \n",
       "2010-01-05  1132.660034  1136.630005  1129.660034  1136.520020  1136.520020   \n",
       "2010-01-06  1135.709961  1139.189941  1133.949951  1137.140015  1137.140015   \n",
       "2010-01-07  1136.270020  1142.459961  1131.319946  1141.689941  1141.689941   \n",
       "\n",
       "                Volume  \n",
       "Date                    \n",
       "2009-12-31  2076990000  \n",
       "2010-01-04  3991400000  \n",
       "2010-01-05  2491020000  \n",
       "2010-01-06  4972660000  \n",
       "2010-01-07  5270680000  "
      ]
     },
     "execution_count": 1,
     "metadata": {},
     "output_type": "execute_result"
    }
   ],
   "source": [
    "# A tutorial for this file is available at www.relataly.com\n",
    "\n",
    "import math # Mathematical functions \n",
    "import numpy as np # Fundamental package for scientific computing with Python\n",
    "import pandas as pd # For analysing and manipulating data\n",
    "from datetime import date, timedelta # Date Functions\n",
    "from pandas.plotting import register_matplotlib_converters # Adds plotting functions for calender dates\n",
    "import matplotlib.pyplot as plt # For visualization\n",
    "import matplotlib.dates as mdates # Formatting dates\n",
    "from sklearn.metrics import mean_absolute_error, mean_squared_error # For measuring model performance / errors\n",
    "from sklearn.preprocessing import MinMaxScaler #to normalize the price data \n",
    "from tensorflow.keras.models import Sequential # Deep learning library, used for neural networks\n",
    "from tensorflow.keras.layers import LSTM, Dense # Deep learning classes for recurrent and regular densely-connected layers\n",
    "import tensorflow as tf\n",
    "\n",
    "# check the tensorflow version and the number of available GPUs\n",
    "print('Tensorflow Version: ' + tf.__version__)\n",
    "physical_devices = tf.config.list_physical_devices('GPU')\n",
    "print(\"Num GPUs:\", len(physical_devices))\n",
    "\n",
    "# Setting the timeframe for the data extraction\n",
    "today = date.today()\n",
    "end_date = today.strftime(\"%Y-%m-%d\")\n",
    "start_date = '2010-01-01'\n",
    "\n",
    "# Getting S&P500 quotes\n",
    "stockname = 'S&P500'\n",
    "symbol = '^GSPC'\n",
    "\n",
    "# You can either use webreader or yfinance to load the data from yahoo finance\n",
    "# import pandas_datareader as webreader\n",
    "# df = webreader.DataReader(symbol, start=start_date, end=end_date, data_source=\"yahoo\")\n",
    "\n",
    "import yfinance as yf #Alternative package if webreader does not work: pip install yfinance\n",
    "df = yf.download(symbol, start=start_date, end=end_date)\n",
    "\n",
    "# Taking a look at the shape of the dataset\n",
    "print(df.shape)\n",
    "df.head(5)"
   ]
  },
  {
   "cell_type": "markdown",
   "metadata": {},
   "source": [
    "# Step #2 Explore the Data"
   ]
  },
  {
   "cell_type": "code",
   "execution_count": 2,
   "metadata": {},
   "outputs": [
    {
     "data": {
      "image/png": "[encoded data removed]",
      "text/plain": [
       "<Figure size 1152x432 with 1 Axes>"
      ]
     },
     "metadata": {
      "needs_background": "light"
     },
     "output_type": "display_data"
    }
   ],
   "source": [
    "# Plotting the data\n",
    "register_matplotlib_converters()\n",
    "years = mdates.YearLocator() \n",
    "fig, ax1 = plt.subplots(figsize=(16, 6))\n",
    "ax1.xaxis.set_major_locator(years)\n",
    "x = df.index\n",
    "y = df['Close']\n",
    "ax1.legend([stockname], fontsize=12)\n",
    "plt.title(stockname + ' from '+ start_date + ' to ' + end_date, fontsize=16)\n",
    "plt.plot(y, color='#039dfc', label=stockname, linewidth=1.0)\n",
    "plt.ylabel('S&P500 Points', fontsize=12)\n",
    "plt.show()"
   ]
  },
  {
   "cell_type": "markdown",
   "metadata": {},
   "source": [
    "# Step #3 Preprocess the Data"
   ]
  },
  {
   "cell_type": "code",
   "execution_count": 4,
   "metadata": {
    "scrolled": true
   },
   "outputs": [],
   "source": [
    "# Feature Selection - Only Close Data\n",
    "train_df = df.filter(['Close'])\n",
    "data_unscaled = train_df.values\n",
    "\n",
    "# Get the number of rows to train the model on 80% of the data \n",
    "train_data_length = math.ceil(len(data_unscaled) * 0.8)\n",
    "\n",
    "# Transform features by scaling each feature to a range between 0 and 1\n",
    "mmscaler = MinMaxScaler(feature_range=(0, 1))\n",
    "np_data = mmscaler.fit_transform(data_unscaled)"
   ]
  },
  {
   "cell_type": "code",
   "execution_count": 5,
   "metadata": {},
   "outputs": [
    {
     "name": "stdout",
     "output_type": "stream",
     "text": [
      "0\n",
      "(2419, 50, 1) (2419,)\n",
      "(617, 50, 1) (617,)\n",
      "0.5251591107121002\n",
      "0.5251591107121002\n"
     ]
    }
   ],
   "source": [
    "# Set the sequence length - this is the timeframe used to make a single prediction\n",
    "sequence_length = 50\n",
    "\n",
    "# Prediction Index\n",
    "index_Close = train_df.columns.get_loc(\"Close\")\n",
    "print(index_Close)\n",
    "# Split the training data into train and train data sets\n",
    "# As a first step, we get the number of rows to train the model on 80% of the data \n",
    "train_data_len = math.ceil(np_data.shape[0] * 0.8)\n",
    "\n",
    "# Create the training and test data\n",
    "train_data = np_data[0:train_data_len, :]\n",
    "test_data = np_data[train_data_len - sequence_length:, :]\n",
    "\n",
    "# The RNN needs data with the format of [samples, time steps, features]\n",
    "# Here, we create N samples, sequence_length time steps per sample, and 6 features\n",
    "def partition_dataset(sequence_length, train_df):\n",
    "    x, y = [], []\n",
    "    data_len = train_df.shape[0]\n",
    "    for i in range(sequence_length, data_len):\n",
    "        x.append(train_df[i-sequence_length:i,:]) #contains sequence_length values 0-sequence_length * columsn\n",
    "        y.append(train_df[i, index_Close]) #contains the prediction values for validation (3rd column = Close),  for single-step prediction\n",
    "    \n",
    "    # Convert the x and y to numpy arrays\n",
    "    x = np.array(x)\n",
    "    y = np.array(y)\n",
    "    return x, y\n",
    "\n",
    "# Generate training data and test data\n",
    "x_train, y_train = partition_dataset(sequence_length, train_data)\n",
    "x_test, y_test = partition_dataset(sequence_length, test_data)\n",
    "\n",
    "# Print the shapes: the result is: (rows, training_sequence, features) (prediction value, )\n",
    "print(x_train.shape, y_train.shape)\n",
    "print(x_test.shape, y_test.shape)\n",
    "\n",
    "# Validate that the prediction value and the input match up\n",
    "# The last close price of the second input sample should equal the first prediction value\n",
    "print(x_test[1][sequence_length-1][index_Close])\n",
    "print(y_test[0])"
   ]
  },
  {
   "cell_type": "markdown",
   "metadata": {},
   "source": [
    "# Step #4 Design the Model Architecture"
   ]
  },
  {
   "cell_type": "code",
   "execution_count": 6,
   "metadata": {},
   "outputs": [],
   "source": [
    "# Configure the neural network model\n",
    "model = Sequential()\n",
    "\n",
    "neurons = sequence_length\n",
    "\n",
    "# Model with sequence_length Neurons \n",
    "# inputshape = sequence_length Timestamps\n",
    "model.add(LSTM(neurons, return_sequences=True, input_shape=(x_train.shape[1], 1))) \n",
    "model.add(LSTM(neurons, return_sequences=False))\n",
    "model.add(Dense(25, activation='relu'))\n",
    "model.add(Dense(1))\n",
    "\n",
    "# Compile the model\n",
    "model.compile(optimizer='adam', loss='mean_squared_error')"
   ]
  },
  {
   "cell_type": "markdown",
   "metadata": {},
   "source": [
    "# Step #5 Train the Model"
   ]
  },
  {
   "cell_type": "code",
   "execution_count": 7,
   "metadata": {},
   "outputs": [
    {
     "name": "stdout",
     "output_type": "stream",
     "text": [
      "Epoch 1/25\n",
      "152/152 [==============================] - 4s 28ms/step - loss: 0.0043\n",
      "Epoch 2/25\n",
      "152/152 [==============================] - 4s 25ms/step - loss: 1.3046e-04\n",
      "Epoch 3/25\n",
      "152/152 [==============================] - 4s 26ms/step - loss: 1.3556e-04\n",
      "Epoch 4/25\n",
      "152/152 [==============================] - 4s 25ms/step - loss: 1.2935e-04\n",
      "Epoch 5/25\n",
      "152/152 [==============================] - 4s 24ms/step - loss: 1.2647e-04\n",
      "Epoch 6/25\n",
      "152/152 [==============================] - 4s 24ms/step - loss: 1.3631e-04\n",
      "Epoch 7/25\n",
      "152/152 [==============================] - 4s 24ms/step - loss: 1.1472e-04\n",
      "Epoch 8/25\n",
      "152/152 [==============================] - 4s 24ms/step - loss: 1.1044e-04\n",
      "Epoch 9/25\n",
      "152/152 [==============================] - 4s 24ms/step - loss: 1.0936e-04\n",
      "Epoch 10/25\n",
      "152/152 [==============================] - 4s 25ms/step - loss: 9.7060e-05\n",
      "Epoch 11/25\n",
      "152/152 [==============================] - 4s 25ms/step - loss: 1.1103e-04\n",
      "Epoch 12/25\n",
      "152/152 [==============================] - 4s 24ms/step - loss: 1.0820e-04\n",
      "Epoch 13/25\n",
      "152/152 [==============================] - 4s 26ms/step - loss: 1.1444e-04\n",
      "Epoch 14/25\n",
      "152/152 [==============================] - 4s 25ms/step - loss: 8.9064e-05\n",
      "Epoch 15/25\n",
      "152/152 [==============================] - 5s 31ms/step - loss: 8.2471e-05\n",
      "Epoch 16/25\n",
      "152/152 [==============================] - 4s 26ms/step - loss: 9.0552e-05\n",
      "Epoch 17/25\n",
      "152/152 [==============================] - 4s 24ms/step - loss: 7.5409e-05\n",
      "Epoch 18/25\n",
      "152/152 [==============================] - 4s 25ms/step - loss: 7.2413e-05\n",
      "Epoch 19/25\n",
      "152/152 [==============================] - 4s 24ms/step - loss: 7.2459e-05\n",
      "Epoch 20/25\n",
      "152/152 [==============================] - 4s 25ms/step - loss: 6.9805e-05: 1s -\n",
      "Epoch 21/25\n",
      "152/152 [==============================] - 4s 23ms/step - loss: 8.2460e-05\n",
      "Epoch 22/25\n",
      "152/152 [==============================] - 4s 24ms/step - loss: 6.2443e-05\n",
      "Epoch 23/25\n",
      "152/152 [==============================] - 4s 24ms/step - loss: 8.5564e-05\n",
      "Epoch 24/25\n",
      "152/152 [==============================] - 4s 24ms/step - loss: 5.6890e-05\n",
      "Epoch 25/25\n",
      "152/152 [==============================] - 4s 24ms/step - loss: 5.5472e-05\n"
     ]
    },
    {
     "data": {
      "text/plain": [
       "<tensorflow.python.keras.callbacks.History at 0x16b16966460>"
      ]
     },
     "execution_count": 7,
     "metadata": {},
     "output_type": "execute_result"
    }
   ],
   "source": [
    "# Training the model\n",
    "model.fit(x_train, y_train, batch_size=16, epochs=25)"
   ]
  },
  {
   "cell_type": "markdown",
   "metadata": {},
   "source": [
    "# Step #6 Make Predictions"
   ]
  },
  {
   "cell_type": "code",
   "execution_count": 8,
   "metadata": {},
   "outputs": [],
   "source": [
    "# Get the predicted values\n",
    "y_pred_scaled = model.predict(x_test)\n",
    "y_pred = mmscaler.inverse_transform(y_pred_scaled)\n",
    "y_test_unscaled = mmscaler.inverse_transform(y_test.reshape(-1, 1))"
   ]
  },
  {
   "cell_type": "markdown",
   "metadata": {},
   "source": [
    "# Step #7 Evaluate Model Performance"
   ]
  },
  {
   "cell_type": "code",
   "execution_count": 9,
   "metadata": {},
   "outputs": [
    {
     "name": "stdout",
     "output_type": "stream",
     "text": [
      "Median Absolute Error (MAE): 50.09\n",
      "Mean Absolute Percentage Error (MAPE): 1.38 %\n",
      "Median Absolute Percentage Error (MDAPE): 1.04 %\n"
     ]
    }
   ],
   "source": [
    "# Mean Absolute Error (MAE)\n",
    "MAE = mean_absolute_error(y_test_unscaled, y_pred)\n",
    "print(f'Median Absolute Error (MAE): {np.round(MAE, 2)}')\n",
    "\n",
    "# Mean Absolute Percentage Error (MAPE)\n",
    "MAPE = np.mean((np.abs(np.subtract(y_test_unscaled, y_pred)/ y_test_unscaled))) * 100\n",
    "print(f'Mean Absolute Percentage Error (MAPE): {np.round(MAPE, 2)} %')\n",
    "\n",
    "# Median Absolute Percentage Error (MDAPE)\n",
    "MDAPE = np.median((np.abs(np.subtract(y_test_unscaled, y_pred)/ y_test_unscaled)) ) * 100\n",
    "print(f'Median Absolute Percentage Error (MDAPE): {np.round(MDAPE, 2)} %')"
   ]
  },
  {
   "cell_type": "code",
   "execution_count": 10,
   "metadata": {},
   "outputs": [
    {
     "data": {
      "image/png": "[encoded data removed]",
      "text/plain": [
       "<Figure size 1152x576 with 1 Axes>"
      ]
     },
     "metadata": {
      "needs_background": "light"
     },
     "output_type": "display_data"
    }
   ],
   "source": [
    "# The date from which on the date is displayed\n",
    "display_start_date = \"2018-01-01\" \n",
    "\n",
    "# Add the difference between the valid and predicted prices\n",
    "train = train_df[:train_data_length + 1]\n",
    "valid = train_df[train_data_length:]\n",
    "valid.insert(1, \"Predictions\", y_pred, True)\n",
    "valid.insert(1, \"Difference\", valid[\"Predictions\"] - valid[\"Close\"], True)\n",
    "\n",
    "# Zoom in to a closer timeframe\n",
    "valid = valid[valid.index > display_start_date]\n",
    "train = train[train.index > display_start_date]\n",
    "\n",
    "# Visualize the data\n",
    "fig, ax = plt.subplots(figsize=(16, 8), sharex=True)\n",
    "\n",
    "plt.title(\"Predictions vs Ground Truth\", fontsize=20)\n",
    "plt.ylabel(stockname, fontsize=18)\n",
    "plt.plot(train[\"Close\"], color=\"#039dfc\", linewidth=1.0)\n",
    "plt.plot(valid[\"Predictions\"], color=\"#E91D9E\", linewidth=1.0)\n",
    "plt.plot(valid[\"Close\"], color=\"black\", linewidth=1.0)\n",
    "plt.legend([\"Train\", \"Test Predictions\", \"Ground Truth\"], loc=\"upper left\")\n",
    "\n",
    "# Fill between plotlines\n",
    "# ax.fill_between(yt.index, 0, yt[\"Close\"], color=\"#b9e1fa\")\n",
    "# ax.fill_between(yv.index, 0, yv[\"Predictions\"], color=\"#F0845C\")\n",
    "# ax.fill_between(yv.index, yv[\"Close\"], yv[\"Predictions\"], color=\"grey\") \n",
    "\n",
    "# Create the bar plot with the differences\n",
    "valid.loc[valid[\"Difference\"] >= 0, 'diff_color'] = \"#2BC97A\"\n",
    "valid.loc[valid[\"Difference\"] < 0, 'diff_color'] = \"#C92B2B\"\n",
    "plt.bar(valid.index, valid[\"Difference\"], width=0.8, color=valid['diff_color'])\n",
    "\n",
    "plt.show()"
   ]
  },
  {
   "cell_type": "code",
   "execution_count": 11,
   "metadata": {},
   "outputs": [
    {
     "data": {
      "text/html": [
       "<div>\n",
       "<style scoped>\n",
       "    .dataframe tbody tr th:only-of-type {\n",
       "        vertical-align: middle;\n",
       "    }\n",
       "\n",
       "    .dataframe tbody tr th {\n",
       "        vertical-align: top;\n",
       "    }\n",
       "\n",
       "    .dataframe thead th {\n",
       "        text-align: right;\n",
       "    }\n",
       "</style>\n",
       "<table border=\"1\" class=\"dataframe\">\n",
       "  <thead>\n",
       "    <tr style=\"text-align: right;\">\n",
       "      <th></th>\n",
       "      <th>Close</th>\n",
       "      <th>Difference</th>\n",
       "      <th>Difference</th>\n",
       "      <th>Predictions</th>\n",
       "      <th>diff_color</th>\n",
       "    </tr>\n",
       "    <tr>\n",
       "      <th>Date</th>\n",
       "      <th></th>\n",
       "      <th></th>\n",
       "      <th></th>\n",
       "      <th></th>\n",
       "      <th></th>\n",
       "    </tr>\n",
       "  </thead>\n",
       "  <tbody>\n",
       "    <tr>\n",
       "      <th>2022-03-29</th>\n",
       "      <td>4631.600098</td>\n",
       "      <td>-130.984863</td>\n",
       "      <td>130.984863</td>\n",
       "      <td>4500.615234</td>\n",
       "      <td>#C92B2B</td>\n",
       "    </tr>\n",
       "    <tr>\n",
       "      <th>2022-03-30</th>\n",
       "      <td>4602.450195</td>\n",
       "      <td>-75.163574</td>\n",
       "      <td>75.163574</td>\n",
       "      <td>4527.286621</td>\n",
       "      <td>#C92B2B</td>\n",
       "    </tr>\n",
       "    <tr>\n",
       "      <th>2022-03-31</th>\n",
       "      <td>4530.410156</td>\n",
       "      <td>12.969727</td>\n",
       "      <td>-12.969727</td>\n",
       "      <td>4543.379883</td>\n",
       "      <td>#2BC97A</td>\n",
       "    </tr>\n",
       "    <tr>\n",
       "      <th>2022-04-01</th>\n",
       "      <td>4545.859863</td>\n",
       "      <td>-14.790039</td>\n",
       "      <td>14.790039</td>\n",
       "      <td>4531.069824</td>\n",
       "      <td>#C92B2B</td>\n",
       "    </tr>\n",
       "    <tr>\n",
       "      <th>2022-04-04</th>\n",
       "      <td>4582.640137</td>\n",
       "      <td>-69.082031</td>\n",
       "      <td>69.082031</td>\n",
       "      <td>4513.558105</td>\n",
       "      <td>#C92B2B</td>\n",
       "    </tr>\n",
       "  </tbody>\n",
       "</table>\n",
       "</div>"
      ],
      "text/plain": [
       "                  Close  Difference  Difference  Predictions diff_color\n",
       "Date                                                                   \n",
       "2022-03-29  4631.600098 -130.984863  130.984863  4500.615234    #C92B2B\n",
       "2022-03-30  4602.450195  -75.163574   75.163574  4527.286621    #C92B2B\n",
       "2022-03-31  4530.410156   12.969727  -12.969727  4543.379883    #2BC97A\n",
       "2022-04-01  4545.859863  -14.790039   14.790039  4531.069824    #C92B2B\n",
       "2022-04-04  4582.640137  -69.082031   69.082031  4513.558105    #C92B2B"
      ]
     },
     "execution_count": 11,
     "metadata": {},
     "output_type": "execute_result"
    }
   ],
   "source": [
    "# Show the valid and predicted prices\n",
    "dif = valid['Close'] - valid['Predictions']\n",
    "valid.insert(2, 'Difference', dif, True)\n",
    "valid.tail(5)"
   ]
  },
  {
   "cell_type": "markdown",
   "metadata": {},
   "source": [
    "# Step #8 Predict Next Day's Price"
   ]
  },
  {
   "cell_type": "code",
   "execution_count": 12,
   "metadata": {},
   "outputs": [
    {
     "name": "stdout",
     "output_type": "stream",
     "text": [
      "The close price for S&P500 at 2022-04-05 was 4582.64\n",
      "The predicted close price is 4507.27001953125 (+1.64%)\n"
     ]
    }
   ],
   "source": [
    "# Get fresh data\n",
    "df_new = df.filter(['Close'])\n",
    "\n",
    "# Get the last N day closing price values and scale the data to be values between 0 and 1\n",
    "last_days_scaled = mmscaler.transform(df_new[-sequence_length:].values)\n",
    "\n",
    "# Create an empty list and Append past n days\n",
    "X_test = []\n",
    "X_test.append(last_days_scaled)\n",
    "\n",
    "# Convert the X_test data set to a numpy array and reshape the data\n",
    "X_test = np.array(X_test)\n",
    "X_test = np.reshape(X_test, (X_test.shape[0], X_test.shape[1], 1))\n",
    "\n",
    "# Get the predicted scaled price, undo the scaling and output the predictions\n",
    "pred_price = model.predict(X_test)\n",
    "pred_price_unscaled = mmscaler.inverse_transform(pred_price)\n",
    "\n",
    "# Print last price and predicted price for the next day\n",
    "price_today = round(df_new['Close'][-1], 2)\n",
    "predicted_price = round(pred_price_unscaled.ravel()[0], 2)\n",
    "percent = round(100 - (predicted_price * 100)/price_today, 2)\n",
    "\n",
    "prefix = '+' if percent > 0 else ''\n",
    "print(f'The close price for {stockname} at {today} was {price_today}')\n",
    "print(f'The predicted close price is {predicted_price} ({prefix}{percent}%)')"
   ]
  }
 ],
 "metadata": {
  "kernelspec": {
   "display_name": "Python 3",
   "language": "python",
   "name": "python3"
  },
  "language_info": {
   "codemirror_mode": {
    "name": "ipython",
    "version": 3
   },
   "file_extension": ".py",
   "mimetype": "text/x-python",
   "name": "python",
   "nbconvert_exporter": "python",
   "pygments_lexer": "ipython3",
   "version": "3.8.13"
  }
 },
 "nbformat": 4,
 "nbformat_minor": 4
}
