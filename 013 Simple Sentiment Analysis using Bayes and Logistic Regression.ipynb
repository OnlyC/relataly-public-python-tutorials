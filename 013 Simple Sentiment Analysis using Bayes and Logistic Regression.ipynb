{
 "cells": [
  {
   "cell_type": "markdown",
   "metadata": {},
   "source": [
    "# Step #1 Load the Data"
   ]
  },
  {
   "cell_type": "code",
   "execution_count": 5,
   "metadata": {
    "scrolled": true
   },
   "outputs": [
    {
     "data": {
      "text/html": [
       "<div>\n",
       "<style scoped>\n",
       "    .dataframe tbody tr th:only-of-type {\n",
       "        vertical-align: middle;\n",
       "    }\n",
       "\n",
       "    .dataframe tbody tr th {\n",
       "        vertical-align: top;\n",
       "    }\n",
       "\n",
       "    .dataframe thead th {\n",
       "        text-align: right;\n",
       "    }\n",
       "</style>\n",
       "<table border=\"1\" class=\"dataframe\">\n",
       "  <thead>\n",
       "    <tr style=\"text-align: right;\">\n",
       "      <th></th>\n",
       "      <th>textID</th>\n",
       "      <th>text</th>\n",
       "      <th>selected_text</th>\n",
       "      <th>sentiment</th>\n",
       "    </tr>\n",
       "  </thead>\n",
       "  <tbody>\n",
       "    <tr>\n",
       "      <th>0</th>\n",
       "      <td>cb774db0d1</td>\n",
       "      <td>I`d have responded, if I were going</td>\n",
       "      <td>I`d have responded, if I were going</td>\n",
       "      <td>neutral</td>\n",
       "    </tr>\n",
       "    <tr>\n",
       "      <th>1</th>\n",
       "      <td>549e992a42</td>\n",
       "      <td>Sooo SAD I will miss you here in San Diego!!!</td>\n",
       "      <td>Sooo SAD</td>\n",
       "      <td>negative</td>\n",
       "    </tr>\n",
       "    <tr>\n",
       "      <th>2</th>\n",
       "      <td>088c60f138</td>\n",
       "      <td>my boss is bullying me...</td>\n",
       "      <td>bullying me</td>\n",
       "      <td>negative</td>\n",
       "    </tr>\n",
       "    <tr>\n",
       "      <th>3</th>\n",
       "      <td>9642c003ef</td>\n",
       "      <td>what interview! leave me alone</td>\n",
       "      <td>leave me alone</td>\n",
       "      <td>negative</td>\n",
       "    </tr>\n",
       "    <tr>\n",
       "      <th>4</th>\n",
       "      <td>358bd9e861</td>\n",
       "      <td>Sons of ****, why couldn`t they put them on t...</td>\n",
       "      <td>Sons of ****,</td>\n",
       "      <td>negative</td>\n",
       "    </tr>\n",
       "    <tr>\n",
       "      <th>...</th>\n",
       "      <td>...</td>\n",
       "      <td>...</td>\n",
       "      <td>...</td>\n",
       "      <td>...</td>\n",
       "    </tr>\n",
       "    <tr>\n",
       "      <th>27476</th>\n",
       "      <td>4eac33d1c0</td>\n",
       "      <td>wish we could come see u on Denver  husband l...</td>\n",
       "      <td>d lost</td>\n",
       "      <td>negative</td>\n",
       "    </tr>\n",
       "    <tr>\n",
       "      <th>27477</th>\n",
       "      <td>4f4c4fc327</td>\n",
       "      <td>I`ve wondered about rake to.  The client has ...</td>\n",
       "      <td>, don`t force</td>\n",
       "      <td>negative</td>\n",
       "    </tr>\n",
       "    <tr>\n",
       "      <th>27478</th>\n",
       "      <td>f67aae2310</td>\n",
       "      <td>Yay good for both of you. Enjoy the break - y...</td>\n",
       "      <td>Yay good for both of you.</td>\n",
       "      <td>positive</td>\n",
       "    </tr>\n",
       "    <tr>\n",
       "      <th>27479</th>\n",
       "      <td>ed167662a5</td>\n",
       "      <td>But it was worth it  ****.</td>\n",
       "      <td>But it was worth it  ****.</td>\n",
       "      <td>positive</td>\n",
       "    </tr>\n",
       "    <tr>\n",
       "      <th>27480</th>\n",
       "      <td>6f7127d9d7</td>\n",
       "      <td>All this flirting going on - The ATG smiles...</td>\n",
       "      <td>All this flirting going on - The ATG smiles. Y...</td>\n",
       "      <td>neutral</td>\n",
       "    </tr>\n",
       "  </tbody>\n",
       "</table>\n",
       "<p>27481 rows × 4 columns</p>\n",
       "</div>"
      ],
      "text/plain": [
       "           textID                                               text  \\\n",
       "0      cb774db0d1                I`d have responded, if I were going   \n",
       "1      549e992a42      Sooo SAD I will miss you here in San Diego!!!   \n",
       "2      088c60f138                          my boss is bullying me...   \n",
       "3      9642c003ef                     what interview! leave me alone   \n",
       "4      358bd9e861   Sons of ****, why couldn`t they put them on t...   \n",
       "...           ...                                                ...   \n",
       "27476  4eac33d1c0   wish we could come see u on Denver  husband l...   \n",
       "27477  4f4c4fc327   I`ve wondered about rake to.  The client has ...   \n",
       "27478  f67aae2310   Yay good for both of you. Enjoy the break - y...   \n",
       "27479  ed167662a5                         But it was worth it  ****.   \n",
       "27480  6f7127d9d7     All this flirting going on - The ATG smiles...   \n",
       "\n",
       "                                           selected_text sentiment  \n",
       "0                    I`d have responded, if I were going   neutral  \n",
       "1                                               Sooo SAD  negative  \n",
       "2                                            bullying me  negative  \n",
       "3                                         leave me alone  negative  \n",
       "4                                          Sons of ****,  negative  \n",
       "...                                                  ...       ...  \n",
       "27476                                             d lost  negative  \n",
       "27477                                      , don`t force  negative  \n",
       "27478                          Yay good for both of you.  positive  \n",
       "27479                         But it was worth it  ****.  positive  \n",
       "27480  All this flirting going on - The ATG smiles. Y...   neutral  \n",
       "\n",
       "[27481 rows x 4 columns]"
      ]
     },
     "execution_count": 5,
     "metadata": {},
     "output_type": "execute_result"
    }
   ],
   "source": [
    "# A tutorial for this file is available at www.relataly.com\n",
    "\n",
    "import pandas as pd \n",
    "import matplotlib.pyplot as plt \n",
    "\n",
    "from sklearn.pipeline import Pipeline\n",
    "from sklearn.feature_extraction.text import CountVectorizer, TfidfTransformer\n",
    "from sklearn.linear_model import LogisticRegression\n",
    "from sklearn.naive_bayes import MultinomialNB\n",
    "from sklearn.metrics import classification_report, confusion_matrix, precision_recall_fscore_support as score\n",
    "\n",
    "import seaborn as sns\n",
    "\n",
    "# Load the train data\n",
    "path = 'data/sentiment/'\n",
    "train_base_df = pd.read_csv(path + \"train.csv\") \n",
    "test_base_df = pd.read_csv(path + \"test.csv\") \n",
    "\n",
    "# Print a Summary of the Train Data\n",
    "# The train data comprises 27481 text phrases \n",
    "# Sentiment Classes are labeled either \"neutral\", \"negative\" or \"positive\"\n",
    "train_base_df"
   ]
  },
  {
   "cell_type": "markdown",
   "metadata": {},
   "source": [
    "# Step #2 Clean and Preprocess the Data"
   ]
  },
  {
   "cell_type": "code",
   "execution_count": 6,
   "metadata": {},
   "outputs": [
    {
     "data": {
      "text/html": [
       "<div>\n",
       "<style scoped>\n",
       "    .dataframe tbody tr th:only-of-type {\n",
       "        vertical-align: middle;\n",
       "    }\n",
       "\n",
       "    .dataframe tbody tr th {\n",
       "        vertical-align: top;\n",
       "    }\n",
       "\n",
       "    .dataframe thead th {\n",
       "        text-align: right;\n",
       "    }\n",
       "</style>\n",
       "<table border=\"1\" class=\"dataframe\">\n",
       "  <thead>\n",
       "    <tr style=\"text-align: right;\">\n",
       "      <th></th>\n",
       "      <th>textID</th>\n",
       "      <th>text</th>\n",
       "      <th>selected_text</th>\n",
       "      <th>sentiment</th>\n",
       "      <th>text_length</th>\n",
       "    </tr>\n",
       "  </thead>\n",
       "  <tbody>\n",
       "    <tr>\n",
       "      <th>14339</th>\n",
       "      <td>5c6abc28a1</td>\n",
       "      <td>ow</td>\n",
       "      <td>ow</td>\n",
       "      <td>2</td>\n",
       "      <td>3.0</td>\n",
       "    </tr>\n",
       "    <tr>\n",
       "      <th>26005</th>\n",
       "      <td>0b3fe0ca78</td>\n",
       "      <td>?</td>\n",
       "      <td>?</td>\n",
       "      <td>2</td>\n",
       "      <td>3.0</td>\n",
       "    </tr>\n",
       "    <tr>\n",
       "      <th>11524</th>\n",
       "      <td>4105b6a05d</td>\n",
       "      <td>aw</td>\n",
       "      <td>aw</td>\n",
       "      <td>2</td>\n",
       "      <td>3.0</td>\n",
       "    </tr>\n",
       "    <tr>\n",
       "      <th>641</th>\n",
       "      <td>5210cc55ae</td>\n",
       "      <td>no</td>\n",
       "      <td>no</td>\n",
       "      <td>2</td>\n",
       "      <td>3.0</td>\n",
       "    </tr>\n",
       "    <tr>\n",
       "      <th>25699</th>\n",
       "      <td>ee8ee67cb3</td>\n",
       "      <td>ME</td>\n",
       "      <td>ME</td>\n",
       "      <td>2</td>\n",
       "      <td>3.0</td>\n",
       "    </tr>\n",
       "    <tr>\n",
       "      <th>...</th>\n",
       "      <td>...</td>\n",
       "      <td>...</td>\n",
       "      <td>...</td>\n",
       "      <td>...</td>\n",
       "      <td>...</td>\n",
       "    </tr>\n",
       "    <tr>\n",
       "      <th>2582</th>\n",
       "      <td>72df0ca5a2</td>\n",
       "      <td>TODAy SUCKs - kisskass19: ï¿½you and katey bro...</td>\n",
       "      <td>SUCKs</td>\n",
       "      <td>1</td>\n",
       "      <td>139.0</td>\n",
       "    </tr>\n",
       "    <tr>\n",
       "      <th>16851</th>\n",
       "      <td>a7595518c2</td>\n",
       "      <td>4 novos followers http://migre.me/SfN Sorry, t...</td>\n",
       "      <td>Sorry,</td>\n",
       "      <td>1</td>\n",
       "      <td>139.0</td>\n",
       "    </tr>\n",
       "    <tr>\n",
       "      <th>13896</th>\n",
       "      <td>3312d3de45</td>\n",
       "      <td>Feeling madly sorry for myself... - ï¿½Iï¿½M S...</td>\n",
       "      <td>madly sorry</td>\n",
       "      <td>1</td>\n",
       "      <td>140.0</td>\n",
       "    </tr>\n",
       "    <tr>\n",
       "      <th>27318</th>\n",
       "      <td>d370238b6b</td>\n",
       "      <td>just saw an advert for ATTICS TO EDEN on tv  o...</td>\n",
       "      <td>just saw an advert for ATTICS TO EDEN on tv  o...</td>\n",
       "      <td>2</td>\n",
       "      <td>141.0</td>\n",
       "    </tr>\n",
       "    <tr>\n",
       "      <th>3138</th>\n",
       "      <td>0d64ba9efd</td>\n",
       "      <td>Is so freaking bored on the bus. Hate being po...</td>\n",
       "      <td>bored</td>\n",
       "      <td>1</td>\n",
       "      <td>141.0</td>\n",
       "    </tr>\n",
       "  </tbody>\n",
       "</table>\n",
       "<p>27480 rows × 5 columns</p>\n",
       "</div>"
      ],
      "text/plain": [
       "           textID                                               text  \\\n",
       "14339  5c6abc28a1                                                 ow   \n",
       "26005  0b3fe0ca78                                                  ?   \n",
       "11524  4105b6a05d                                                 aw   \n",
       "641    5210cc55ae                                                 no   \n",
       "25699  ee8ee67cb3                                                 ME   \n",
       "...           ...                                                ...   \n",
       "2582   72df0ca5a2  TODAy SUCKs - kisskass19: ï¿½you and katey bro...   \n",
       "16851  a7595518c2  4 novos followers http://migre.me/SfN Sorry, t...   \n",
       "13896  3312d3de45  Feeling madly sorry for myself... - ï¿½Iï¿½M S...   \n",
       "27318  d370238b6b  just saw an advert for ATTICS TO EDEN on tv  o...   \n",
       "3138   0d64ba9efd  Is so freaking bored on the bus. Hate being po...   \n",
       "\n",
       "                                           selected_text  sentiment  \\\n",
       "14339                                                 ow          2   \n",
       "26005                                                  ?          2   \n",
       "11524                                                 aw          2   \n",
       "641                                                   no          2   \n",
       "25699                                                 ME          2   \n",
       "...                                                  ...        ...   \n",
       "2582                                               SUCKs          1   \n",
       "16851                                             Sorry,          1   \n",
       "13896                                        madly sorry          1   \n",
       "27318  just saw an advert for ATTICS TO EDEN on tv  o...          2   \n",
       "3138                                               bored          1   \n",
       "\n",
       "       text_length  \n",
       "14339          3.0  \n",
       "26005          3.0  \n",
       "11524          3.0  \n",
       "641            3.0  \n",
       "25699          3.0  \n",
       "...            ...  \n",
       "2582         139.0  \n",
       "16851        139.0  \n",
       "13896        140.0  \n",
       "27318        141.0  \n",
       "3138         141.0  \n",
       "\n",
       "[27480 rows x 5 columns]"
      ]
     },
     "execution_count": 6,
     "metadata": {},
     "output_type": "execute_result"
    }
   ],
   "source": [
    "# Define Class Integer Values\n",
    "cleanup_nums = {\"sentiment\": {\"negative\": 1, \"neutral\": 2, \"positive\": 3}}\n",
    "\n",
    "# Replace the Classes with Integer Values\n",
    "train_df = train_base_df.copy()\n",
    "train_df.replace(cleanup_nums, inplace=True)\n",
    "\n",
    "# Clean the Test Data\n",
    "test_df = test_base_df.copy()\n",
    "test_df.replace(cleanup_nums, inplace=True)\n",
    "\n",
    "# Create a Feature based on Text Length\n",
    "train_df['text_length'] = train_df['text'].str.len() # Store string length of each sample\n",
    "train_df = train_df.sort_values(['text_length'], ascending=True)\n",
    "train_df = train_df.dropna()\n",
    "train_df "
   ]
  },
  {
   "cell_type": "markdown",
   "metadata": {},
   "source": [
    "# Step #3 Explore the Data"
   ]
  },
  {
   "cell_type": "code",
   "execution_count": 7,
   "metadata": {
    "scrolled": true
   },
   "outputs": [
    {
     "data": {
      "text/plain": [
       "Text(0, 0.5, 'Labels')"
      ]
     },
     "execution_count": 7,
     "metadata": {},
     "output_type": "execute_result"
    },
    {
     "data": {
      "image/png": "[encoded data removed]",
      "text/plain": [
       "<Figure size 432x288 with 1 Axes>"
      ]
     },
     "metadata": {},
     "output_type": "display_data"
    }
   ],
   "source": [
    "# Print the Distribution of Sentiment Labels\n",
    "sns.set_theme(style=\"whitegrid\")\n",
    "ax = train_df['sentiment'].value_counts(sort=False).plot(kind='barh', color='b')\n",
    "ax.set_xlabel('Count')\n",
    "ax.set_ylabel('Labels')"
   ]
  },
  {
   "cell_type": "code",
   "execution_count": 8,
   "metadata": {},
   "outputs": [
    {
     "data": {
      "text/plain": [
       "Text(0.5, 1.0, 'Text Length Distribution')"
      ]
     },
     "execution_count": 8,
     "metadata": {},
     "output_type": "execute_result"
    },
    {
     "data": {
      "image/png": "[encoded data removed]",
      "text/plain": [
       "<Figure size 432x288 with 1 Axes>"
      ]
     },
     "metadata": {},
     "output_type": "display_data"
    }
   ],
   "source": [
    "# Visualize a distribution of text_length\n",
    "sns.histplot(data=train_df, x='text_length', bins='auto', color='darkblue');\n",
    "plt.title('Text Length Distribution')"
   ]
  },
  {
   "cell_type": "markdown",
   "metadata": {},
   "source": [
    "# Step #4 Train a Logistic Regression Classifier"
   ]
  },
  {
   "cell_type": "code",
   "execution_count": 9,
   "metadata": {},
   "outputs": [
    {
     "name": "stdout",
     "output_type": "stream",
     "text": [
      "              precision    recall  f1-score      support\n",
      "negative       0.736479  0.639361  0.684492  1001.000000\n",
      "neutral        0.643070  0.755944  0.694953  1430.000000\n",
      "positive       0.795732  0.709882  0.750359  1103.000000\n",
      "accuracy       0.708546  0.708546  0.708546     0.708546\n",
      "macro avg      0.725093  0.701729  0.709935  3534.000000\n",
      "weighted avg   0.717175  0.708546  0.709283  3534.000000\n"
     ]
    },
    {
     "data": {
      "image/png": "[encoded data removed]",
      "text/plain": [
       "<Figure size 432x288 with 2 Axes>"
      ]
     },
     "metadata": {},
     "output_type": "display_data"
    }
   ],
   "source": [
    "# Create a transformation pipeline\n",
    "# The pipeline sequentially applies a list of transforms and as a final estimator logistic regression \n",
    "pipeline_log = Pipeline([\n",
    "                ('count', CountVectorizer()),\n",
    "                ('tfidf', TfidfTransformer()),\n",
    "                ('clf', LogisticRegression(solver='liblinear', multi_class='auto')),\n",
    "        ])\n",
    "\n",
    "# Train model using the created sklearn pipeline\n",
    "model_name = 'logistic regression classifier'\n",
    "model_lgr = pipeline_log.fit(train_df['text'], train_df['sentiment'])\n",
    "\n",
    "def evaluate_results(model, test_df):\n",
    "    # Predict class labels using the learner function\n",
    "    test_df['pred'] = model.predict(test_df['text'])\n",
    "    y_true = test_df['sentiment']\n",
    "    y_pred = test_df['pred']\n",
    "    target_names = ['negative', 'neutral', 'positive']\n",
    "\n",
    "    # Print the Confusion Matrix\n",
    "    results_log = classification_report(y_true, y_pred, target_names=target_names, output_dict=True)\n",
    "    results_df_log = pd.DataFrame(results_log).transpose()\n",
    "    print(results_df_log)\n",
    "    matrix = confusion_matrix(y_true,  y_pred)\n",
    "    sns.heatmap(pd.DataFrame(matrix), \n",
    "                annot=True, fmt=\"d\", linewidths=.5, cmap=\"YlGnBu\")\n",
    "    plt.xlabel('Predictions')\n",
    "    plt.xlabel('Actual')\n",
    "    \n",
    "    model_score = score(y_pred, y_true, average='macro')\n",
    "    return model_score\n",
    "\n",
    "    \n",
    "# Evaluate model performance\n",
    "model_score = evaluate_results(model_lgr, test_df)\n",
    "performance_df = pd.DataFrame().append({'model_name': model_name, \n",
    "                                    'f1_score': model_score[0], \n",
    "                                    'precision': model_score[1], \n",
    "                                    'recall': model_score[2]}, ignore_index=True)"
   ]
  },
  {
   "cell_type": "markdown",
   "metadata": {},
   "source": [
    "# Step #4b Train a Bayes Classifier"
   ]
  },
  {
   "cell_type": "code",
   "execution_count": 10,
   "metadata": {
    "scrolled": false
   },
   "outputs": [
    {
     "name": "stdout",
     "output_type": "stream",
     "text": [
      "              precision    recall  f1-score      support\n",
      "negative       0.782700  0.370629  0.503051  1001.000000\n",
      "neutral        0.531678  0.868531  0.659586  1430.000000\n",
      "positive       0.821823  0.539438  0.651341  1103.000000\n",
      "accuracy       0.624788  0.624788  0.624788     0.624788\n",
      "macro avg      0.712067  0.592866  0.604659  3534.000000\n",
      "weighted avg   0.693337  0.624788  0.612674  3534.000000\n"
     ]
    },
    {
     "data": {
      "image/png": "[encoded data removed]",
      "text/plain": [
       "<Figure size 432x288 with 2 Axes>"
      ]
     },
     "metadata": {},
     "output_type": "display_data"
    }
   ],
   "source": [
    "# Create a pipeline which transforms phrases into normalized feature vectors and uses a bayes estimator\n",
    "model_name = 'bayes classifier'\n",
    "\n",
    "pipeline_bayes = Pipeline([\n",
    "                ('count', CountVectorizer()),\n",
    "                ('tfidf', TfidfTransformer()),\n",
    "                ('gnb', MultinomialNB()),\n",
    "                ])\n",
    "\n",
    "# Train model using the created sklearn pipeline\n",
    "model_bayes = pipeline_bayes.fit(train_df['text'], train_df['sentiment'])\n",
    "\n",
    "# Evaluate model performance\n",
    "model_score = evaluate_results(model_bayes, test_df)\n",
    "performance_df = performance_df.append({'model_name': model_name, \n",
    "                                    'f1_score': model_score[0], \n",
    "                                    'precision': model_score[1], \n",
    "                                    'recall': model_score[2]}, ignore_index=True)"
   ]
  },
  {
   "cell_type": "markdown",
   "metadata": {},
   "source": [
    "# Step #5 Compare Classifier Performance"
   ]
  },
  {
   "cell_type": "code",
   "execution_count": 11,
   "metadata": {},
   "outputs": [
    {
     "name": "stdout",
     "output_type": "stream",
     "text": [
      "                       model_name  f1_score  precision    recall\n",
      "0  logistic regression classifier  0.701729   0.725093  0.709935\n",
      "1                bayes classifier  0.592866   0.712067  0.604659\n"
     ]
    },
    {
     "data": {
      "text/plain": [
       "Text(0.5, 1.0, 'Model Outlier Detection Performance (Macro)')"
      ]
     },
     "execution_count": 11,
     "metadata": {},
     "output_type": "execute_result"
    },
    {
     "data": {
      "image/png": "[encoded data removed]",
      "text/plain": [
       "<Figure size 864x288 with 1 Axes>"
      ]
     },
     "metadata": {},
     "output_type": "display_data"
    }
   ],
   "source": [
    "# Compare model performance\n",
    "print(performance_df)\n",
    "\n",
    "performance_df = performance_df.sort_values('model_name')\n",
    "fig, ax = plt.subplots(figsize=(12, 4))\n",
    "tidy = performance_df.melt(id_vars='model_name').rename(columns=str.title)\n",
    "sns.barplot(y='Model_Name', x='Value', hue='Variable', data=tidy, ax=ax, linewidth=1, edgecolor=\"w\", palette=\"GnBu_d\")\n",
    "plt.title('Model Outlier Detection Performance (Macro)')"
   ]
  },
  {
   "cell_type": "markdown",
   "metadata": {},
   "source": [
    "# Step #6 Make Test Predictions"
   ]
  },
  {
   "cell_type": "code",
   "execution_count": 12,
   "metadata": {},
   "outputs": [
    {
     "name": "stdout",
     "output_type": "stream",
     "text": [
      "Mondays just suck!-> Negative\n",
      "I love this product-> Positive\n",
      "That is a tree-> Neutral\n",
      "Terrible service-> Negative\n"
     ]
    }
   ],
   "source": [
    "testphrases = ['Mondays just suck!', 'I love this product', 'That is a tree', 'Terrible service']\n",
    "for testphrase in testphrases:\n",
    "    resultx = model_lgr.predict([testphrase]) # use model_bayes for predictions with the other model\n",
    "    dict = {1: 'Negative', 2: 'Neutral', 3: 'Positive'}\n",
    "    print(testphrase + '-> ' + dict[resultx[0]])"
   ]
  }
 ],
 "metadata": {
  "kernelspec": {
   "display_name": "Python 3",
   "language": "python",
   "name": "python3"
  },
  "language_info": {
   "codemirror_mode": {
    "name": "ipython",
    "version": 3
   },
   "file_extension": ".py",
   "mimetype": "text/x-python",
   "name": "python",
   "nbconvert_exporter": "python",
   "pygments_lexer": "ipython3",
   "version": "3.8.8"
  }
 },
 "nbformat": 4,
 "nbformat_minor": 2
}
