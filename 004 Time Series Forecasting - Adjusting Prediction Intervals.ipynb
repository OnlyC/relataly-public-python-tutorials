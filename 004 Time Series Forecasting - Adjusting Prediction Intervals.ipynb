{
 "cells": [
  {
   "cell_type": "markdown",
   "metadata": {},
   "source": [
    "# Step #1 Load the Data"
   ]
  },
  {
   "cell_type": "code",
   "execution_count": 1,
   "metadata": {},
   "outputs": [
    {
     "name": "stdout",
     "output_type": "stream",
     "text": [
      "Tensorflow Version: 2.5.0\n",
      "Num GPUs: 0\n",
      "[*********************100%***********************]  1 of 1 completed\n"
     ]
    },
    {
     "data": {
      "text/html": [
       "<div>\n",
       "<style scoped>\n",
       "    .dataframe tbody tr th:only-of-type {\n",
       "        vertical-align: middle;\n",
       "    }\n",
       "\n",
       "    .dataframe tbody tr th {\n",
       "        vertical-align: top;\n",
       "    }\n",
       "\n",
       "    .dataframe thead th {\n",
       "        text-align: right;\n",
       "    }\n",
       "</style>\n",
       "<table border=\"1\" class=\"dataframe\">\n",
       "  <thead>\n",
       "    <tr style=\"text-align: right;\">\n",
       "      <th></th>\n",
       "      <th>Open</th>\n",
       "      <th>High</th>\n",
       "      <th>Low</th>\n",
       "      <th>Close</th>\n",
       "      <th>Adj Close</th>\n",
       "      <th>Volume</th>\n",
       "    </tr>\n",
       "    <tr>\n",
       "      <th>Date</th>\n",
       "      <th></th>\n",
       "      <th></th>\n",
       "      <th></th>\n",
       "      <th></th>\n",
       "      <th></th>\n",
       "      <th></th>\n",
       "    </tr>\n",
       "  </thead>\n",
       "  <tbody>\n",
       "    <tr>\n",
       "      <th>2009-12-31</th>\n",
       "      <td>1126.599976</td>\n",
       "      <td>1127.640015</td>\n",
       "      <td>1114.810059</td>\n",
       "      <td>1115.099976</td>\n",
       "      <td>1115.099976</td>\n",
       "      <td>2076990000</td>\n",
       "    </tr>\n",
       "    <tr>\n",
       "      <th>2010-01-04</th>\n",
       "      <td>1116.560059</td>\n",
       "      <td>1133.869995</td>\n",
       "      <td>1116.560059</td>\n",
       "      <td>1132.989990</td>\n",
       "      <td>1132.989990</td>\n",
       "      <td>3991400000</td>\n",
       "    </tr>\n",
       "    <tr>\n",
       "      <th>2010-01-05</th>\n",
       "      <td>1132.660034</td>\n",
       "      <td>1136.630005</td>\n",
       "      <td>1129.660034</td>\n",
       "      <td>1136.520020</td>\n",
       "      <td>1136.520020</td>\n",
       "      <td>2491020000</td>\n",
       "    </tr>\n",
       "    <tr>\n",
       "      <th>2010-01-06</th>\n",
       "      <td>1135.709961</td>\n",
       "      <td>1139.189941</td>\n",
       "      <td>1133.949951</td>\n",
       "      <td>1137.140015</td>\n",
       "      <td>1137.140015</td>\n",
       "      <td>4972660000</td>\n",
       "    </tr>\n",
       "    <tr>\n",
       "      <th>2010-01-07</th>\n",
       "      <td>1136.270020</td>\n",
       "      <td>1142.459961</td>\n",
       "      <td>1131.319946</td>\n",
       "      <td>1141.689941</td>\n",
       "      <td>1141.689941</td>\n",
       "      <td>5270680000</td>\n",
       "    </tr>\n",
       "  </tbody>\n",
       "</table>\n",
       "</div>"
      ],
      "text/plain": [
       "                   Open         High          Low        Close    Adj Close  \\\n",
       "Date                                                                          \n",
       "2009-12-31  1126.599976  1127.640015  1114.810059  1115.099976  1115.099976   \n",
       "2010-01-04  1116.560059  1133.869995  1116.560059  1132.989990  1132.989990   \n",
       "2010-01-05  1132.660034  1136.630005  1129.660034  1136.520020  1136.520020   \n",
       "2010-01-06  1135.709961  1139.189941  1133.949951  1137.140015  1137.140015   \n",
       "2010-01-07  1136.270020  1142.459961  1131.319946  1141.689941  1141.689941   \n",
       "\n",
       "                Volume  \n",
       "Date                    \n",
       "2009-12-31  2076990000  \n",
       "2010-01-04  3991400000  \n",
       "2010-01-05  2491020000  \n",
       "2010-01-06  4972660000  \n",
       "2010-01-07  5270680000  "
      ]
     },
     "execution_count": 1,
     "metadata": {},
     "output_type": "execute_result"
    }
   ],
   "source": [
    "# A tutorial for this file is available at www.relataly.com\n",
    "\n",
    "import math # Fundamental package for scientific computing with Python\n",
    "import numpy as np # Additional functions for analysing and manipulating data\n",
    "import pandas as pd # Date Functions\n",
    "from datetime import date, timedelta # This function adds plotting functions for calender dates\n",
    "from pandas.plotting import register_matplotlib_converters # Important package for visualization - we use this to plot the market data\n",
    "import matplotlib.pyplot as plt # Formatting dates\n",
    "import matplotlib.dates as mdates # Packages for measuring model performance / errors\n",
    "from sklearn.metrics import mean_absolute_error, mean_squared_error # Tools for predictive data analysis. We will use the MinMaxScaler to normalize the price data \n",
    "from sklearn.preprocessing import MinMaxScaler # Deep learning library, used for neural networks\n",
    "from tensorflow.keras.models import Sequential # Deep learning classes for recurrent and regular densely-connected layers\n",
    "from tensorflow.keras.layers import LSTM, Dense\n",
    "from tensorflow.keras.callbacks import EarlyStopping\n",
    "import tensorflow as tf\n",
    "\n",
    "# check the tensorflow version and the number of available GPUs\n",
    "print('Tensorflow Version: ' + tf.__version__)\n",
    "physical_devices = tf.config.list_physical_devices('GPU')\n",
    "print(\"Num GPUs:\", len(physical_devices))\n",
    "\n",
    "\n",
    "# Setting the timeframe for the data extraction\n",
    "end_date = date.today().strftime(\"%Y-%m-%d\")\n",
    "start_date = '2010-01-01'\n",
    "\n",
    "# Getting S&P500 quotes\n",
    "stockname = 'S&P500'\n",
    "symbol = '^GSPC'\n",
    "\n",
    "# You can either use webreader or yfinance to load the data from yahoo finance\n",
    "# import pandas_datareader as webreader\n",
    "# df = webreader.DataReader(symbol, start=start_date, end=end_date, data_source=\"yahoo\")\n",
    "\n",
    "import yfinance as yf #Alternative package if webreader does not work: pip install yfinance\n",
    "df = yf.download(symbol, start=start_date, end=end_date)\n",
    "\n",
    "df.head(5)"
   ]
  },
  {
   "cell_type": "markdown",
   "metadata": {},
   "source": [
    "# Step #2 Explore the Data"
   ]
  },
  {
   "cell_type": "code",
   "execution_count": 2,
   "metadata": {},
   "outputs": [
    {
     "data": {
      "text/html": [
       "<div>\n",
       "<style scoped>\n",
       "    .dataframe tbody tr th:only-of-type {\n",
       "        vertical-align: middle;\n",
       "    }\n",
       "\n",
       "    .dataframe tbody tr th {\n",
       "        vertical-align: top;\n",
       "    }\n",
       "\n",
       "    .dataframe thead th {\n",
       "        text-align: right;\n",
       "    }\n",
       "</style>\n",
       "<table border=\"1\" class=\"dataframe\">\n",
       "  <thead>\n",
       "    <tr style=\"text-align: right;\">\n",
       "      <th></th>\n",
       "      <th>Open</th>\n",
       "      <th>High</th>\n",
       "      <th>Low</th>\n",
       "      <th>Close</th>\n",
       "      <th>Adj Close</th>\n",
       "      <th>Volume</th>\n",
       "      <th>index1</th>\n",
       "    </tr>\n",
       "    <tr>\n",
       "      <th>Date</th>\n",
       "      <th></th>\n",
       "      <th></th>\n",
       "      <th></th>\n",
       "      <th></th>\n",
       "      <th></th>\n",
       "      <th></th>\n",
       "      <th></th>\n",
       "    </tr>\n",
       "  </thead>\n",
       "  <tbody>\n",
       "    <tr>\n",
       "      <th>2010-01-11</th>\n",
       "      <td>1145.959961</td>\n",
       "      <td>1149.739990</td>\n",
       "      <td>1142.020020</td>\n",
       "      <td>1146.979980</td>\n",
       "      <td>1146.979980</td>\n",
       "      <td>4255780000</td>\n",
       "      <td>7</td>\n",
       "    </tr>\n",
       "    <tr>\n",
       "      <th>2010-01-21</th>\n",
       "      <td>1138.680054</td>\n",
       "      <td>1141.579956</td>\n",
       "      <td>1114.839966</td>\n",
       "      <td>1116.479980</td>\n",
       "      <td>1116.479980</td>\n",
       "      <td>6874290000</td>\n",
       "      <td>14</td>\n",
       "    </tr>\n",
       "    <tr>\n",
       "      <th>2010-02-01</th>\n",
       "      <td>1073.890015</td>\n",
       "      <td>1089.380005</td>\n",
       "      <td>1073.890015</td>\n",
       "      <td>1089.189941</td>\n",
       "      <td>1089.189941</td>\n",
       "      <td>4077610000</td>\n",
       "      <td>21</td>\n",
       "    </tr>\n",
       "    <tr>\n",
       "      <th>2010-02-10</th>\n",
       "      <td>1069.680054</td>\n",
       "      <td>1073.670044</td>\n",
       "      <td>1059.339966</td>\n",
       "      <td>1068.130005</td>\n",
       "      <td>1068.130005</td>\n",
       "      <td>4251450000</td>\n",
       "      <td>28</td>\n",
       "    </tr>\n",
       "    <tr>\n",
       "      <th>2010-02-22</th>\n",
       "      <td>1110.000000</td>\n",
       "      <td>1112.290039</td>\n",
       "      <td>1105.380005</td>\n",
       "      <td>1108.010010</td>\n",
       "      <td>1108.010010</td>\n",
       "      <td>3814440000</td>\n",
       "      <td>35</td>\n",
       "    </tr>\n",
       "  </tbody>\n",
       "</table>\n",
       "</div>"
      ],
      "text/plain": [
       "                   Open         High          Low        Close    Adj Close  \\\n",
       "Date                                                                          \n",
       "2010-01-11  1145.959961  1149.739990  1142.020020  1146.979980  1146.979980   \n",
       "2010-01-21  1138.680054  1141.579956  1114.839966  1116.479980  1116.479980   \n",
       "2010-02-01  1073.890015  1089.380005  1073.890015  1089.189941  1089.189941   \n",
       "2010-02-10  1069.680054  1073.670044  1059.339966  1068.130005  1068.130005   \n",
       "2010-02-22  1110.000000  1112.290039  1105.380005  1108.010010  1108.010010   \n",
       "\n",
       "                Volume  index1  \n",
       "Date                            \n",
       "2010-01-11  4255780000       7  \n",
       "2010-01-21  6874290000      14  \n",
       "2010-02-01  4077610000      21  \n",
       "2010-02-10  4251450000      28  \n",
       "2010-02-22  3814440000      35  "
      ]
     },
     "execution_count": 2,
     "metadata": {},
     "output_type": "execute_result"
    }
   ],
   "source": [
    "# Changing the data structure to a dataframe with weekly price quotes\n",
    "df[\"index1\"] = range(1, len(df) + 1)\n",
    "rownumber = df.shape[0]\n",
    "lst = list(range(rownumber))\n",
    "list_of_relevant_numbers = lst[0::7]\n",
    "df_weekly = df[df[\"index1\"].isin(list_of_relevant_numbers)]\n",
    "df_weekly.head(5)"
   ]
  },
  {
   "cell_type": "code",
   "execution_count": 3,
   "metadata": {},
   "outputs": [
    {
     "data": {
      "image/png": "[encoded data removed]",
      "text/plain": [
       "<Figure size 1152x432 with 1 Axes>"
      ]
     },
     "metadata": {
      "needs_background": "light"
     },
     "output_type": "display_data"
    }
   ],
   "source": [
    "# Visualizing the data\n",
    "register_matplotlib_converters()\n",
    "years = mdates.YearLocator()\n",
    "fig, ax1 = plt.subplots(figsize=(16, 6))\n",
    "ax1.xaxis.set_major_locator(years)\n",
    "x = df_weekly.index\n",
    "y = df_weekly[\"Close\"]\n",
    "ax1.legend([stockname], fontsize=16)\n",
    "plt.title(stockname + \" Price between \" + start_date + \" and \" + end_date, fontsize=20)\n",
    "plt.plot(y, color=\"#039dfc\", label=\"S&P500\", linewidth=1.0)\n",
    "plt.ylabel(\"S&P500 Points\", fontsize=18)\n",
    "plt.show()"
   ]
  },
  {
   "cell_type": "markdown",
   "metadata": {},
   "source": [
    "# Step #3 Preprocess the Data"
   ]
  },
  {
   "cell_type": "code",
   "execution_count": 4,
   "metadata": {},
   "outputs": [],
   "source": [
    "# Feature Selection - Only Close Data\n",
    "train_df = df.filter(['Close'])\n",
    "data_unscaled = df.values\n",
    "\n",
    "# Transform features by scaling each feature to a range between 0 and 1\n",
    "mmscaler = MinMaxScaler(feature_range=(0, 1))\n",
    "np_data = mmscaler.fit_transform(data_unscaled)\n",
    "\n",
    "# Creating a separate scaler that works on a single column for scaling predictions\n",
    "scaler_pred = MinMaxScaler()\n",
    "df_Close = pd.DataFrame(df['Close'])\n",
    "np_Close_scaled = scaler_pred.fit_transform(df_Close)"
   ]
  },
  {
   "cell_type": "code",
   "execution_count": 5,
   "metadata": {},
   "outputs": [
    {
     "name": "stdout",
     "output_type": "stream",
     "text": [
      "(2464, 25, 7) (2464,)\n",
      "(622, 25, 7) (622,)\n",
      "0.5525780756227328\n",
      "0.5525780756227328\n"
     ]
    }
   ],
   "source": [
    "# Set the sequence length - this is the timeframe used to make a single prediction\n",
    "sequence_length = 25\n",
    "\n",
    "# Prediction Index\n",
    "index_Close = train_df.columns.get_loc(\"Close\")\n",
    "\n",
    "# Split the training data into train and train data sets\n",
    "# As a first step, we get the number of rows to train the model on 80% of the data \n",
    "train_data_length = math.ceil(np_data.shape[0] * 0.8)\n",
    "\n",
    "# Create the training and test data\n",
    "train_data = np_data[0:train_data_length, :]\n",
    "test_data = np_data[train_data_length - sequence_length:, :]\n",
    "\n",
    "# The RNN needs data with the format of [samples, time steps, features]\n",
    "# Here, we create N samples, sequence_length time steps per sample, and 6 features\n",
    "def partition_dataset(sequence_length, train_df):\n",
    "    x, y = [], []\n",
    "    data_len = train_df.shape[0]\n",
    "    for i in range(sequence_length, data_len):\n",
    "        x.append(train_df[i-sequence_length:i,:]) #contains sequence_length values 0-sequence_length * columsn\n",
    "        y.append(train_df[i, index_Close]) #contains the prediction values for validation (3rd column = Close),  for single-step prediction\n",
    "    \n",
    "    # Convert the x and y to numpy arrays\n",
    "    x = np.array(x)\n",
    "    y = np.array(y)\n",
    "    return x, y\n",
    "\n",
    "# Generate training data and test data\n",
    "x_train, y_train = partition_dataset(sequence_length, train_data)\n",
    "x_test, y_test = partition_dataset(sequence_length, test_data)\n",
    "\n",
    "# Print the shapes: the result is: (rows, training_sequence, features) (prediction value, )\n",
    "print(x_train.shape, y_train.shape)\n",
    "print(x_test.shape, y_test.shape)\n",
    "\n",
    "# Validate that the prediction value and the input match up\n",
    "# The last close price of the second input sample should equal the first prediction value\n",
    "print(x_test[1][sequence_length-1][index_Close])\n",
    "print(y_test[0])"
   ]
  },
  {
   "cell_type": "markdown",
   "metadata": {},
   "source": [
    "# Step #4 Train the Model"
   ]
  },
  {
   "cell_type": "code",
   "execution_count": 6,
   "metadata": {},
   "outputs": [
    {
     "name": "stdout",
     "output_type": "stream",
     "text": [
      "175 25 7\n"
     ]
    }
   ],
   "source": [
    "# Configure the neural network model\n",
    "model = Sequential()\n",
    "\n",
    "# Model with n_neurons Neurons\n",
    "n_neurons = x_train.shape[1] * x_train.shape[2]\n",
    "print(n_neurons, x_train.shape[1], x_train.shape[2])\n",
    "model.add(LSTM(n_neurons, return_sequences=True, input_shape=(x_train.shape[1], x_train.shape[2])))\n",
    "model.add(LSTM(n_neurons, return_sequences=False))\n",
    "model.add(Dense(25, activation=\"relu\"))\n",
    "model.add(Dense(1))\n",
    "\n",
    "# Compile the model\n",
    "model.compile(optimizer=\"adam\", loss=\"mean_squared_error\")"
   ]
  },
  {
   "cell_type": "code",
   "execution_count": 7,
   "metadata": {},
   "outputs": [
    {
     "name": "stdout",
     "output_type": "stream",
     "text": [
      "Epoch 1/10\n",
      "154/154 [==============================] - 11s 31ms/step - loss: 8.8840e-04\n",
      "Epoch 2/10\n",
      "154/154 [==============================] - 5s 33ms/step - loss: 1.0813e-04\n",
      "Epoch 3/10\n",
      "154/154 [==============================] - 5s 33ms/step - loss: 9.7108e-05\n",
      "Epoch 4/10\n",
      "154/154 [==============================] - 5s 30ms/step - loss: 7.6393e-05\n",
      "Epoch 5/10\n",
      "154/154 [==============================] - 5s 33ms/step - loss: 5.6447e-05\n",
      "Epoch 6/10\n",
      "154/154 [==============================] - 5s 32ms/step - loss: 5.1932e-05\n",
      "Epoch 7/10\n",
      "154/154 [==============================] - 5s 30ms/step - loss: 8.0655e-05\n",
      "Epoch 8/10\n",
      "154/154 [==============================] - 5s 32ms/step - loss: 6.1114e-05\n",
      "Epoch 00008: early stopping\n"
     ]
    }
   ],
   "source": [
    "# Training the model\n",
    "epochs = 10\n",
    "early_stop = EarlyStopping(monitor='loss', patience=2, verbose=1)\n",
    "history = model.fit(x_train, y_train, \n",
    "                    batch_size=16, \n",
    "                    epochs=epochs, \n",
    "                    callbacks=[early_stop])"
   ]
  },
  {
   "cell_type": "markdown",
   "metadata": {},
   "source": [
    "# Step #5 Evaluate Model Performance"
   ]
  },
  {
   "cell_type": "code",
   "execution_count": 8,
   "metadata": {},
   "outputs": [
    {
     "name": "stdout",
     "output_type": "stream",
     "text": [
      "Median Absolute Error (MAE): 67.01\n",
      "Mean Absolute Percentage Error (MAPE): 1.74 %\n",
      "Median Absolute Percentage Error (MDAPE): 1.54 %\n"
     ]
    },
    {
     "data": {
      "image/png": "[encoded data removed]",
      "text/plain": [
       "<Figure size 1152x576 with 1 Axes>"
      ]
     },
     "metadata": {
      "needs_background": "light"
     },
     "output_type": "display_data"
    }
   ],
   "source": [
    "# Get the predicted values\n",
    "y_pred_scaled = model.predict(x_test)\n",
    "y_pred = scaler_pred.inverse_transform(y_pred_scaled)\n",
    "y_test_unscaled = scaler_pred.inverse_transform(y_test.reshape(-1, 1))\n",
    "\n",
    "# Mean Absolute Error (MAE)\n",
    "MAE = mean_absolute_error(y_test_unscaled, y_pred)\n",
    "print(f'Median Absolute Error (MAE): {np.round(MAE, 2)}')\n",
    "\n",
    "# Mean Absolute Percentage Error (MAPE)\n",
    "MAPE = np.mean((np.abs(np.subtract(y_test_unscaled, y_pred)/ y_test_unscaled))) * 100\n",
    "print(f'Mean Absolute Percentage Error (MAPE): {np.round(MAPE, 2)} %')\n",
    "\n",
    "# Median Absolute Percentage Error (MDAPE)\n",
    "MDAPE = np.median((np.abs(np.subtract(y_test_unscaled, y_pred)/ y_test_unscaled)) ) * 100\n",
    "print(f'Median Absolute Percentage Error (MDAPE): {np.round(MDAPE, 2)} %')\n",
    "\n",
    "# The date from which on the date is displayed\n",
    "display_start_date = \"2018-01-01\" \n",
    "\n",
    "# Add the difference between the valid and predicted prices\n",
    "train = train_df[:train_data_length + 1]\n",
    "valid = train_df[train_data_length:]\n",
    "valid.insert(1, \"Predictions\", y_pred, True)\n",
    "valid.insert(1, \"Difference\", valid[\"Predictions\"] - valid[\"Close\"], True)\n",
    "\n",
    "# Zoom in to a closer timeframe\n",
    "valid = valid[valid.index > display_start_date]\n",
    "train = train[train.index > display_start_date]\n",
    "\n",
    "# Visualize the data\n",
    "fig, ax = plt.subplots(figsize=(16, 8), sharex=True)\n",
    "\n",
    "plt.title(\"Predictions vs Ground Truth\", fontsize=20)\n",
    "plt.ylabel(stockname, fontsize=18)\n",
    "plt.plot(train[\"Close\"], color=\"#039dfc\", linewidth=1.0)\n",
    "plt.plot(valid[\"Predictions\"], color=\"#E91D9E\", linewidth=1.0)\n",
    "plt.plot(valid[\"Close\"], color=\"black\", linewidth=1.0)\n",
    "plt.legend([\"Train\", \"Test Predictions\", \"Ground Truth\"], loc=\"upper left\")\n",
    "\n",
    "# Create the bar plot with the differences\n",
    "valid.loc[valid[\"Difference\"] >= 0, 'diff_color'] = \"#2BC97A\"\n",
    "valid.loc[valid[\"Difference\"] < 0, 'diff_color'] = \"#C92B2B\"\n",
    "plt.bar(valid.index, valid[\"Difference\"], width=0.8, color=valid['diff_color'])\n",
    "\n",
    "plt.show()"
   ]
  },
  {
   "cell_type": "markdown",
   "metadata": {},
   "source": [
    "# Step #6 Predict Next Weeks's Price"
   ]
  },
  {
   "cell_type": "code",
   "execution_count": 10,
   "metadata": {},
   "outputs": [
    {
     "name": "stdout",
     "output_type": "stream",
     "text": [
      "The close price for S&P500 at 2022-05-11 was 4001.05\n",
      "The predicted close price is 4046.300048828125 (+1.12%)\n"
     ]
    }
   ],
   "source": [
    "# Get fresh data until today and create a new dataframe with only the price data\n",
    "\n",
    "new_df = df\n",
    "\n",
    "N = sequence_length\n",
    "\n",
    "# Get the last N steps closing price values and scale the data to be values between 0 and 1\n",
    "last_N_steps = new_df[-sequence_length:].values\n",
    "last_N_steps_scaled = mmscaler.transform(last_N_steps)\n",
    "\n",
    "# Create an empty list and Append past N steps\n",
    "X_test_new = []\n",
    "X_test_new.append(last_N_steps_scaled)\n",
    "\n",
    "# Convert the X_test data set to a numpy array and reshape the data\n",
    "pred_price_scaled = model.predict(np.array(X_test_new))\n",
    "pred_price_unscaled = scaler_pred.inverse_transform(pred_price_scaled.reshape(-1, 1))\n",
    "\n",
    "# Print last price and predicted price for the next week\n",
    "price_today = np.round(new_df['Close'][-1], 2)\n",
    "predicted_price = np.round(pred_price_unscaled.ravel()[0], 2)\n",
    "change_percent = np.round(100 - (price_today * 100)/predicted_price, 2)\n",
    "\n",
    "plus = '+'; minus = ''\n",
    "print(f'The close price for {stockname} at {end_date} was {price_today}')\n",
    "print(f'The predicted close price is {predicted_price} ({plus if change_percent > 0 else minus}{change_percent}%)')"
   ]
  }
 ],
 "metadata": {
  "interpreter": {
   "hash": "80915ee0585988373cc19dbfd646c27e878a24ec37d0f08b6f8b5b6f154a2926"
  },
  "kernelspec": {
   "display_name": "Python 3.8.13 ('tfgpu')",
   "language": "python",
   "name": "python3"
  },
  "language_info": {
   "codemirror_mode": {
    "name": "ipython",
    "version": 3
   },
   "file_extension": ".py",
   "mimetype": "text/x-python",
   "name": "python",
   "nbconvert_exporter": "python",
   "pygments_lexer": "ipython3",
   "version": "3.8.13"
  }
 },
 "nbformat": 4,
 "nbformat_minor": 4
}
