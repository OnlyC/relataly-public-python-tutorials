{
 "cells": [
  {
   "cell_type": "code",
   "execution_count": null,
   "metadata": {},
   "outputs": [],
   "source": [
    "# Step #6 Simple Regression Example with MLlib\n",
    "from pyspark.ml import Pipeline\n",
    "from pyspark.ml.regression import GBTRegressor\n",
    "from pyspark.ml.evaluation import RegressionEvaluator\n",
    "from pyspark.ml.feature import FeatureHasher\n",
    "from pyspark.ml.feature import VectorAssembler\n",
    "data = spark_weather_df.filter(spark_weather_df.date < \"2021-01-01\")\n",
    "data.limit(1).toPandas()"
   ]
  },
  {
   "cell_type": "code",
   "execution_count": null,
   "metadata": {},
   "outputs": [],
   "source": [
    "target = \"avg_temp\"\n",
    "features = [\"year\", \"month\"]\n",
    "\n",
    "vector = VectorAssembler(inputCols=features, outputCol='features')\n",
    "\n",
    "# Split the data into training and test sets (20% held out for testing)\n",
    "splitdate = \"2018-01-01\"\n",
    "train = data.filter(col(\"date\") < splitdate)\n",
    "test = data.filter(col(\"date\") >= splitdate)\n",
    "\n",
    "# Train a GBT model.\n",
    "gbt = GBTRegressor(featuresCol=\"features\", labelCol=target, maxIter=10) # we use avg_temp as our target_label\n",
    "\n",
    "# Chain indexer and GBT in a Pipeline\n",
    "pipeline = Pipeline(stages=[vector, gbt])\n",
    "\n",
    "# Train model.  This also runs the indexer.\n",
    "model = pipeline.fit(train)\n",
    "\n"
   ]
  },
  {
   "cell_type": "code",
   "execution_count": null,
   "metadata": {},
   "outputs": [],
   "source": [
    "mdata = model.transform(test)\n",
    "# mdata.show(3)\n",
    "mdata.select(col(\"month\"), col(\"prediction\"), col(target)).filter(col(\"month\") == 8).show(50)\n",
    " \n",
    "rmse=RegressionEvaluator(labelCol=target, predictionCol=\"prediction\", metricName=\"rmse\")\n",
    "rmse=rmse.evaluate(mdata) \n",
    " \n",
    "mae=RegressionEvaluator(labelCol=target, predictionCol=\"prediction\", metricName=\"mae\")\n",
    "mae=mae.evaluate(mdata) \n",
    " \n",
    "r2=RegressionEvaluator(labelCol=target, predictionCol=\"prediction\", metricName=\"r2\")\n",
    "r2=r2.evaluate(mdata)\n",
    "\n",
    "print(\"RMSE: \", rmse)\n",
    "print(\"MAE: \", mae)\n",
    "print(\"R-squared: \", r2)"
   ]
  },
  {
   "cell_type": "code",
   "execution_count": null,
   "metadata": {},
   "outputs": [],
   "source": [
    "fig, ax = plt.subplots(figsize=(28,8))\n",
    "\n",
    "x_ax = mdata.select(col(\"month\"), col(\"year\")).collect() #range(0, mdata.count())\n",
    "y_pred=mdata.select(\"prediction\").collect()\n",
    "y_orig=mdata.select(target).collect()\n",
    "\n",
    "plt.plot(x_ax, y_orig, label=\"original\")\n",
    "plt.plot(x_ax, y_pred, label=\"predicted\")\n",
    "plt.title(\"\")\n",
    "plt.xlabel('X-axis')\n",
    "plt.ylabel('Y-axis')\n",
    "plt.legend(loc='best',fancybox=True, shadow=True)\n",
    "plt.grid(True)\n",
    "plt.show() "
   ]
  }
 ],
 "metadata": {
  "language_info": {
   "name": "python"
  },
  "orig_nbformat": 4
 },
 "nbformat": 4,
 "nbformat_minor": 2
}
