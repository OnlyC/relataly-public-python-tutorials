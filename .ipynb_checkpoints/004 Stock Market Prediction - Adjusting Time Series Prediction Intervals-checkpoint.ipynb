{
 "cells": [
  {
   "cell_type": "markdown",
   "metadata": {},
   "source": [
    "# Step #1 Load the Data"
   ]
  },
  {
   "cell_type": "code",
   "execution_count": 1,
   "metadata": {},
   "outputs": [
    {
     "name": "stdout",
     "output_type": "stream",
     "text": [
      "[*********************100%***********************]  1 of 1 completed\n"
     ]
    },
    {
     "data": {
      "text/html": [
       "<div>\n",
       "<style scoped>\n",
       "    .dataframe tbody tr th:only-of-type {\n",
       "        vertical-align: middle;\n",
       "    }\n",
       "\n",
       "    .dataframe tbody tr th {\n",
       "        vertical-align: top;\n",
       "    }\n",
       "\n",
       "    .dataframe thead th {\n",
       "        text-align: right;\n",
       "    }\n",
       "</style>\n",
       "<table border=\"1\" class=\"dataframe\">\n",
       "  <thead>\n",
       "    <tr style=\"text-align: right;\">\n",
       "      <th></th>\n",
       "      <th>Open</th>\n",
       "      <th>High</th>\n",
       "      <th>Low</th>\n",
       "      <th>Close</th>\n",
       "      <th>Adj Close</th>\n",
       "      <th>Volume</th>\n",
       "    </tr>\n",
       "    <tr>\n",
       "      <th>Date</th>\n",
       "      <th></th>\n",
       "      <th></th>\n",
       "      <th></th>\n",
       "      <th></th>\n",
       "      <th></th>\n",
       "      <th></th>\n",
       "    </tr>\n",
       "  </thead>\n",
       "  <tbody>\n",
       "    <tr>\n",
       "      <th>2009-12-31</th>\n",
       "      <td>1126.599976</td>\n",
       "      <td>1127.640015</td>\n",
       "      <td>1114.810059</td>\n",
       "      <td>1115.099976</td>\n",
       "      <td>1115.099976</td>\n",
       "      <td>2076990000</td>\n",
       "    </tr>\n",
       "    <tr>\n",
       "      <th>2010-01-04</th>\n",
       "      <td>1116.560059</td>\n",
       "      <td>1133.869995</td>\n",
       "      <td>1116.560059</td>\n",
       "      <td>1132.989990</td>\n",
       "      <td>1132.989990</td>\n",
       "      <td>3991400000</td>\n",
       "    </tr>\n",
       "    <tr>\n",
       "      <th>2010-01-05</th>\n",
       "      <td>1132.660034</td>\n",
       "      <td>1136.630005</td>\n",
       "      <td>1129.660034</td>\n",
       "      <td>1136.520020</td>\n",
       "      <td>1136.520020</td>\n",
       "      <td>2491020000</td>\n",
       "    </tr>\n",
       "    <tr>\n",
       "      <th>2010-01-06</th>\n",
       "      <td>1135.709961</td>\n",
       "      <td>1139.189941</td>\n",
       "      <td>1133.949951</td>\n",
       "      <td>1137.140015</td>\n",
       "      <td>1137.140015</td>\n",
       "      <td>4972660000</td>\n",
       "    </tr>\n",
       "    <tr>\n",
       "      <th>2010-01-07</th>\n",
       "      <td>1136.270020</td>\n",
       "      <td>1142.459961</td>\n",
       "      <td>1131.319946</td>\n",
       "      <td>1141.689941</td>\n",
       "      <td>1141.689941</td>\n",
       "      <td>5270680000</td>\n",
       "    </tr>\n",
       "  </tbody>\n",
       "</table>\n",
       "</div>"
      ],
      "text/plain": [
       "                   Open         High          Low        Close    Adj Close  \\\n",
       "Date                                                                          \n",
       "2009-12-31  1126.599976  1127.640015  1114.810059  1115.099976  1115.099976   \n",
       "2010-01-04  1116.560059  1133.869995  1116.560059  1132.989990  1132.989990   \n",
       "2010-01-05  1132.660034  1136.630005  1129.660034  1136.520020  1136.520020   \n",
       "2010-01-06  1135.709961  1139.189941  1133.949951  1137.140015  1137.140015   \n",
       "2010-01-07  1136.270020  1142.459961  1131.319946  1141.689941  1141.689941   \n",
       "\n",
       "                Volume  \n",
       "Date                    \n",
       "2009-12-31  2076990000  \n",
       "2010-01-04  3991400000  \n",
       "2010-01-05  2491020000  \n",
       "2010-01-06  4972660000  \n",
       "2010-01-07  5270680000  "
      ]
     },
     "execution_count": 1,
     "metadata": {},
     "output_type": "execute_result"
    }
   ],
   "source": [
    "# Remote data access for pandas\n",
    "#import pandas_datareader as webreader\n",
    "# Mathematical functions \n",
    "import math \n",
    "# Fundamental package for scientific computing with Python\n",
    "import numpy as np \n",
    "# Additional functions for analysing and manipulating data\n",
    "import pandas as pd \n",
    "# Date Functions\n",
    "from datetime import date, timedelta\n",
    "# This function adds plotting functions for calender dates\n",
    "from pandas.plotting import register_matplotlib_converters\n",
    "# Important package for visualization - we use this to plot the market data\n",
    "import matplotlib.pyplot as plt \n",
    "# Formatting dates\n",
    "import matplotlib.dates as mdates\n",
    "# Packages for measuring model performance / errors\n",
    "from sklearn.metrics import mean_absolute_error, mean_squared_error\n",
    "# Tools for predictive data analysis. We will use the MinMaxScaler to normalize the price data \n",
    "from sklearn.preprocessing import MinMaxScaler \n",
    "# Deep learning library, used for neural networks\n",
    "from keras.models import Sequential \n",
    "# Deep learning classes for recurrent and regular densely-connected layers\n",
    "from keras.layers import LSTM, Dense\n",
    "from keras.callbacks import EarlyStopping\n",
    "\n",
    "# Setting the timeframe for the data extraction\n",
    "today = date.today()\n",
    "date_today = today.strftime(\"%Y-%m-%d\")\n",
    "date_start = '2010-01-01'\n",
    "\n",
    "# Getting S&P500 quotes\n",
    "stockname = 'S&P500'\n",
    "symbol = '^GSPC'\n",
    "# df = webreader.DataReader(\n",
    "#     symbol, start=date_start, end=date_today, data_source=\"yahoo\"\n",
    "# )\n",
    "\n",
    "import yfinance as yf #Alternative package if webreader does not work: pip install yfinance\n",
    "df = yf.download(symbol, start=date_start, end=date_today)\n",
    "\n",
    "df.head(5)"
   ]
  },
  {
   "cell_type": "markdown",
   "metadata": {},
   "source": [
    "# Step #2 Explore the Data"
   ]
  },
  {
   "cell_type": "code",
   "execution_count": 2,
   "metadata": {},
   "outputs": [
    {
     "data": {
      "text/html": [
       "<div>\n",
       "<style scoped>\n",
       "    .dataframe tbody tr th:only-of-type {\n",
       "        vertical-align: middle;\n",
       "    }\n",
       "\n",
       "    .dataframe tbody tr th {\n",
       "        vertical-align: top;\n",
       "    }\n",
       "\n",
       "    .dataframe thead th {\n",
       "        text-align: right;\n",
       "    }\n",
       "</style>\n",
       "<table border=\"1\" class=\"dataframe\">\n",
       "  <thead>\n",
       "    <tr style=\"text-align: right;\">\n",
       "      <th></th>\n",
       "      <th>Open</th>\n",
       "      <th>High</th>\n",
       "      <th>Low</th>\n",
       "      <th>Close</th>\n",
       "      <th>Adj Close</th>\n",
       "      <th>Volume</th>\n",
       "      <th>index1</th>\n",
       "    </tr>\n",
       "    <tr>\n",
       "      <th>Date</th>\n",
       "      <th></th>\n",
       "      <th></th>\n",
       "      <th></th>\n",
       "      <th></th>\n",
       "      <th></th>\n",
       "      <th></th>\n",
       "      <th></th>\n",
       "    </tr>\n",
       "  </thead>\n",
       "  <tbody>\n",
       "    <tr>\n",
       "      <th>2010-01-11</th>\n",
       "      <td>1145.959961</td>\n",
       "      <td>1149.739990</td>\n",
       "      <td>1142.020020</td>\n",
       "      <td>1146.979980</td>\n",
       "      <td>1146.979980</td>\n",
       "      <td>4255780000</td>\n",
       "      <td>7</td>\n",
       "    </tr>\n",
       "    <tr>\n",
       "      <th>2010-01-21</th>\n",
       "      <td>1138.680054</td>\n",
       "      <td>1141.579956</td>\n",
       "      <td>1114.839966</td>\n",
       "      <td>1116.479980</td>\n",
       "      <td>1116.479980</td>\n",
       "      <td>6874290000</td>\n",
       "      <td>14</td>\n",
       "    </tr>\n",
       "    <tr>\n",
       "      <th>2010-02-01</th>\n",
       "      <td>1073.890015</td>\n",
       "      <td>1089.380005</td>\n",
       "      <td>1073.890015</td>\n",
       "      <td>1089.189941</td>\n",
       "      <td>1089.189941</td>\n",
       "      <td>4077610000</td>\n",
       "      <td>21</td>\n",
       "    </tr>\n",
       "    <tr>\n",
       "      <th>2010-02-10</th>\n",
       "      <td>1069.680054</td>\n",
       "      <td>1073.670044</td>\n",
       "      <td>1059.339966</td>\n",
       "      <td>1068.130005</td>\n",
       "      <td>1068.130005</td>\n",
       "      <td>4251450000</td>\n",
       "      <td>28</td>\n",
       "    </tr>\n",
       "    <tr>\n",
       "      <th>2010-02-22</th>\n",
       "      <td>1110.000000</td>\n",
       "      <td>1112.290039</td>\n",
       "      <td>1105.380005</td>\n",
       "      <td>1108.010010</td>\n",
       "      <td>1108.010010</td>\n",
       "      <td>3814440000</td>\n",
       "      <td>35</td>\n",
       "    </tr>\n",
       "  </tbody>\n",
       "</table>\n",
       "</div>"
      ],
      "text/plain": [
       "                   Open         High          Low        Close    Adj Close  \\\n",
       "Date                                                                          \n",
       "2010-01-11  1145.959961  1149.739990  1142.020020  1146.979980  1146.979980   \n",
       "2010-01-21  1138.680054  1141.579956  1114.839966  1116.479980  1116.479980   \n",
       "2010-02-01  1073.890015  1089.380005  1073.890015  1089.189941  1089.189941   \n",
       "2010-02-10  1069.680054  1073.670044  1059.339966  1068.130005  1068.130005   \n",
       "2010-02-22  1110.000000  1112.290039  1105.380005  1108.010010  1108.010010   \n",
       "\n",
       "                Volume  index1  \n",
       "Date                            \n",
       "2010-01-11  4255780000       7  \n",
       "2010-01-21  6874290000      14  \n",
       "2010-02-01  4077610000      21  \n",
       "2010-02-10  4251450000      28  \n",
       "2010-02-22  3814440000      35  "
      ]
     },
     "execution_count": 2,
     "metadata": {},
     "output_type": "execute_result"
    }
   ],
   "source": [
    "# Changing the data structure to a dataframe with weekly price quotes\n",
    "df[\"index1\"] = range(1, len(df) + 1)\n",
    "rownumber = df.shape[0]\n",
    "lst = list(range(rownumber))\n",
    "list_of_relevant_numbers = lst[0::7]\n",
    "df_weekly = df[df[\"index1\"].isin(list_of_relevant_numbers)]\n",
    "df_weekly.head(5)"
   ]
  },
  {
   "cell_type": "code",
   "execution_count": 3,
   "metadata": {},
   "outputs": [
    {
     "data": {
      "image/png": "[encoded data removed]",
      "text/plain": [
       "<Figure size 1152x432 with 1 Axes>"
      ]
     },
     "metadata": {
      "needs_background": "light"
     },
     "output_type": "display_data"
    }
   ],
   "source": [
    "# Visualizing the data\n",
    "register_matplotlib_converters()\n",
    "years = mdates.YearLocator()\n",
    "fig, ax1 = plt.subplots(figsize=(16, 6))\n",
    "ax1.xaxis.set_major_locator(years)\n",
    "x = df_weekly.index\n",
    "y = df_weekly[\"Close\"]\n",
    "ax1.fill_between(x, 0, y, color=\"#b9e1fa\")\n",
    "ax1.legend([stockname], fontsize=16)\n",
    "plt.title(stockname + \" Price between \" + date_start + \" and \" + date_today, fontsize=20)\n",
    "plt.plot(y, color=\"#039dfc\", label=\"S&P500\", linewidth=1.0)\n",
    "plt.ylabel(\"S&P500 Points\", fontsize=20)\n",
    "plt.show()"
   ]
  },
  {
   "cell_type": "markdown",
   "metadata": {},
   "source": [
    "# Step #3 Preprocess the Data"
   ]
  },
  {
   "cell_type": "code",
   "execution_count": 4,
   "metadata": {},
   "outputs": [],
   "source": [
    "# Feature Selection - Only Close Data\n",
    "data = df.filter(['Close'])\n",
    "data_unscaled = data.values\n",
    "\n",
    "# Transform features by scaling each feature to a range between 0 and 1\n",
    "mmscaler = MinMaxScaler(feature_range=(0, 1))\n",
    "np_data = mmscaler.fit_transform(data_unscaled)"
   ]
  },
  {
   "cell_type": "code",
   "execution_count": 5,
   "metadata": {},
   "outputs": [
    {
     "name": "stdout",
     "output_type": "stream",
     "text": [
      "(2270, 50, 1) (2270,)\n",
      "(579, 50, 1) (579,)\n",
      "0.5330845034338646\n",
      "0.5330845034338646\n"
     ]
    }
   ],
   "source": [
    "# Set the sequence length - this is the timeframe used to make a single prediction\n",
    "sequence_length = 50\n",
    "\n",
    "# Prediction Index\n",
    "index_Close = 0\n",
    "\n",
    "# Split the training data into train and train data sets\n",
    "# As a first step, we get the number of rows to train the model on 80% of the data \n",
    "train_data_len = math.ceil(np_data.shape[0] * 0.8)\n",
    "\n",
    "# Create the training and test data\n",
    "train_data = np_data[0:train_data_len, :]\n",
    "test_data = np_data[train_data_len - sequence_length:, :]\n",
    "\n",
    "# The RNN needs data with the format of [samples, time steps, features]\n",
    "# Here, we create N samples, sequence_length time steps per sample, and 6 features\n",
    "def partition_dataset(sequence_length, data):\n",
    "    x, y = [], []\n",
    "    data_len = data.shape[0]\n",
    "    for i in range(sequence_length, data_len):\n",
    "        x.append(data[i-sequence_length:i,:]) #contains sequence_length values 0-sequence_length * columsn\n",
    "        y.append(data[i, index_Close]) #contains the prediction values for validation (3rd column = Close),  for single-step prediction\n",
    "    \n",
    "    # Convert the x and y to numpy arrays\n",
    "    x = np.array(x)\n",
    "    y = np.array(y)\n",
    "    return x, y\n",
    "\n",
    "# Generate training data and test data\n",
    "x_train, y_train = partition_dataset(sequence_length, train_data)\n",
    "x_test, y_test = partition_dataset(sequence_length, test_data)\n",
    "\n",
    "# Print the shapes: the result is: (rows, training_sequence, features) (prediction value, )\n",
    "print(x_train.shape, y_train.shape)\n",
    "print(x_test.shape, y_test.shape)\n",
    "\n",
    "# Validate that the prediction value and the input match up\n",
    "# The last close price of the second input sample should equal the first prediction value\n",
    "print(x_test[1][sequence_length-1][index_Close])\n",
    "print(y_test[0])"
   ]
  },
  {
   "cell_type": "markdown",
   "metadata": {},
   "source": [
    "# Step #4 Train the Model"
   ]
  },
  {
   "cell_type": "code",
   "execution_count": 6,
   "metadata": {},
   "outputs": [
    {
     "name": "stdout",
     "output_type": "stream",
     "text": [
      "50 50 1\n"
     ]
    }
   ],
   "source": [
    "# Configure the neural network model\n",
    "model = Sequential()\n",
    "\n",
    "# Model with n_neurons Neurons\n",
    "n_neurons = x_train.shape[1] * x_train.shape[2]\n",
    "print(n_neurons, x_train.shape[1], x_train.shape[2])\n",
    "model.add(LSTM(n_neurons, return_sequences=True, input_shape=(x_train.shape[1], x_train.shape[2])))\n",
    "model.add(LSTM(n_neurons, return_sequences=False))\n",
    "model.add(Dense(25, activation=\"relu\"))\n",
    "model.add(Dense(1))\n",
    "\n",
    "# Compile the model\n",
    "model.compile(optimizer=\"adam\", loss=\"mean_squared_error\")"
   ]
  },
  {
   "cell_type": "code",
   "execution_count": 7,
   "metadata": {},
   "outputs": [
    {
     "name": "stdout",
     "output_type": "stream",
     "text": [
      "WARNING:tensorflow:From C:\\Users\\Flo\\AppData\\Roaming\\Python\\Python39\\site-packages\\tensorflow\\python\\ops\\array_ops.py:5069: calling gather (from tensorflow.python.ops.array_ops) with validate_indices is deprecated and will be removed in a future version.\n",
      "Instructions for updating:\n",
      "The `validate_indices` argument has no effect. Indices are always validated on CPU and never validated on GPU.\n",
      "Epoch 1/10\n",
      "142/142 [==============================] - 25s 37ms/step - loss: 0.0027\n",
      "Epoch 2/10\n",
      "142/142 [==============================] - 7s 47ms/step - loss: 1.7041e-04\n",
      "Epoch 3/10\n",
      "142/142 [==============================] - 5s 36ms/step - loss: 1.7426e-04\n",
      "Epoch 4/10\n",
      "142/142 [==============================] - 5s 36ms/step - loss: 1.7606e-04\n",
      "Epoch 00004: early stopping\n"
     ]
    }
   ],
   "source": [
    "# Training the model\n",
    "epochs = 10\n",
    "early_stop = EarlyStopping(monitor='loss', patience=2, verbose=1)\n",
    "history = model.fit(x_train, y_train, \n",
    "                    batch_size=16, \n",
    "                    epochs=epochs, \n",
    "                    callbacks=[early_stop])"
   ]
  },
  {
   "cell_type": "markdown",
   "metadata": {},
   "source": [
    "# Step #5 Evaluate Model Performance"
   ]
  },
  {
   "cell_type": "code",
   "execution_count": 18,
   "metadata": {},
   "outputs": [
    {
     "data": {
      "text/plain": [
       "array([0.5330845 , 0.53238002, 0.53840596, 0.53448162, 0.53750056,\n",
       "       0.54318477, 0.55301524, 0.55303025, 0.55487699, 0.5566728 ,\n",
       "       0.56067517, 0.56158357, 0.55631605, 0.55931706, 0.55935007,\n",
       "       0.56507322, 0.56452463, 0.56496833, 0.56298662, 0.56435973,\n",
       "       0.56524112, 0.57294899, 0.57102129, 0.57069748, 0.57480774,\n",
       "       0.57575215, 0.57659161, 0.56996598, 0.56810423, 0.57653459,\n",
       "       0.57258624, 0.55806992, 0.5566818 , 0.55407355, 0.5572754 ,\n",
       "       0.53643033, 0.54318777, 0.54814949, 0.55575246, 0.5507188 ,\n",
       "       0.54493263, 0.55216686, 0.54974144, 0.53953922, 0.54068448,\n",
       "       0.53358815, 0.52778105, 0.52953191, 0.51849923, 0.51621772,\n",
       "       0.53385201, 0.54071141, 0.54590998, 0.55485906, 0.55887336,\n",
       "       0.55857056, 0.55680777, 0.56034536, 0.55894831, 0.55975476,\n",
       "       0.56817318, 0.57078443, 0.5790949 , 0.57797965, 0.57644771,\n",
       "       0.56806222, 0.56698298, 0.57032273, 0.5753714 , 0.58213792,\n",
       "       0.58474017, 0.59157864, 0.58995667, 0.58562157, 0.58672481,\n",
       "       0.59075419, 0.59280478, 0.59696005, 0.59711895, 0.59404299,\n",
       "       0.58816087, 0.59136579, 0.58581948, 0.58834378, 0.59447169,\n",
       "       0.5986959 , 0.59393203, 0.60058466, 0.5991186 , 0.59678314,\n",
       "       0.58694966, 0.57890906, 0.57246035, 0.54628473, 0.55738636,\n",
       "       0.55804891, 0.57427115, 0.56844297, 0.55766516, 0.57074249,\n",
       "       0.54504359, 0.5471422 , 0.55945796, 0.56994198, 0.56300462,\n",
       "       0.57017583, 0.56973213, 0.5469953 , 0.55637   , 0.55360584,\n",
       "       0.55923611, 0.57022084, 0.57078443, 0.56473148, 0.5741782 ,\n",
       "       0.58563657, 0.58644902, 0.58636507, 0.58665286, 0.59311058,\n",
       "       0.5957009 , 0.59504728, 0.59222018, 0.59454063, 0.59484944,\n",
       "       0.59486744, 0.59045439, 0.59036743, 0.58281847, 0.58829584,\n",
       "       0.58612228, 0.58137641, 0.58585842, 0.5749187 , 0.55913722,\n",
       "       0.56603857, 0.57844436, 0.574481  , 0.56077112, 0.56866782,\n",
       "       0.57428308, 0.58391872, 0.5826835 , 0.59153663, 0.58974082,\n",
       "       0.59221718, 0.58869452, 0.59484644, 0.59162958, 0.59418689,\n",
       "       0.59591675, 0.5995923 , 0.6046499 , 0.6038914 , 0.60685347,\n",
       "       0.60409232, 0.61289142, 0.61629719, 0.61520294, 0.61585049,\n",
       "       0.61836878, 0.62073725, 0.61891744, 0.6203655 , 0.62102505,\n",
       "       0.62180149, 0.62894576, 0.62941647, 0.62886181, 0.62534815,\n",
       "       0.62387316, 0.62589681, 0.63289711, 0.63495978, 0.63889012,\n",
       "       0.63509767, 0.62697012, 0.62077319, 0.62663731, 0.62803735,\n",
       "       0.63657567, 0.63359267, 0.63256137, 0.63529252, 0.6433692 ,\n",
       "       0.64343815, 0.6502286 , 0.65054941, 0.65013565, 0.65440188,\n",
       "       0.65915368, 0.65999013, 0.65980122, 0.66475693, 0.66478994,\n",
       "       0.65917468, 0.66201979, 0.67013541, 0.66324   , 0.6666667 ,\n",
       "       0.66393848, 0.66869635, 0.67518701, 0.67238392, 0.67921331,\n",
       "       0.67772031, 0.67956113, 0.68781165, 0.69165211, 0.68900485,\n",
       "       0.68929264, 0.6904289 , 0.68141387, 0.66587218, 0.67564871,\n",
       "       0.67479725, 0.67787321, 0.66044283, 0.66745814, 0.68204949,\n",
       "       0.69317205, 0.69649686, 0.69107944, 0.69838862, 0.70008547,\n",
       "       0.70659113, 0.70493922, 0.70680397, 0.70384498, 0.70859978,\n",
       "       0.70472637, 0.69408945, 0.66055372, 0.63126921, 0.62772555,\n",
       "       0.58646402, 0.5791069 , 0.61988279, 0.59384215, 0.63184188,\n",
       "       0.600009  , 0.58454833, 0.51685033, 0.55752426, 0.51529731,\n",
       "       0.43712729, 0.5061954 , 0.40879313, 0.45168263, 0.41238181,\n",
       "       0.41576649, 0.38444633, 0.36420378, 0.42714099, 0.43560435,\n",
       "       0.48192655, 0.45536419, 0.48090119, 0.46829163, 0.43408734,\n",
       "       0.45099607, 0.4395287 , 0.49200281, 0.49072266, 0.51787562,\n",
       "       0.52981971, 0.52136827, 0.54668049, 0.52788301, 0.53273676,\n",
       "       0.55522481, 0.53981501, 0.51385232, 0.53266481, 0.53221211,\n",
       "       0.54388633, 0.55640001, 0.55187599, 0.57469685, 0.56657822,\n",
       "       0.54207852, 0.54568513, 0.55339   , 0.54738798, 0.55721245,\n",
       "       0.5717858 , 0.57190269, 0.55389371, 0.53886767, 0.54861119,\n",
       "       0.55196894, 0.57901395, 0.56972913, 0.58432048, 0.57739505,\n",
       "       0.57947565, 0.59036443, 0.60366355, 0.60174485, 0.60611597,\n",
       "       0.60953967, 0.61706169, 0.62966833, 0.62651442, 0.6509721 ,\n",
       "       0.66250243, 0.65494446, 0.64983585, 0.5934614 , 0.60521657,\n",
       "       0.61279554, 0.63022892, 0.62685616, 0.62741082, 0.6221343 ,\n",
       "       0.62816632, 0.63219262, 0.60792078, 0.61794309, 0.595545  ,\n",
       "       0.60879317, 0.6228988 , 0.62756672, 0.63180887, 0.64671195,\n",
       "       0.63639884, 0.64377989, 0.63841649, 0.64830691, 0.63936683,\n",
       "       0.65204841, 0.66075464, 0.65745983, 0.66020598, 0.66833361,\n",
       "       0.66997051, 0.67558277, 0.66348278, 0.65747776, 0.66460703,\n",
       "       0.65832022, 0.67031225, 0.66664869, 0.67411377, 0.68115609,\n",
       "       0.68472368, 0.69109745, 0.69751015, 0.69814576, 0.70090092,\n",
       "       0.69287225, 0.70686099, 0.70478632, 0.70461249, 0.70735263,\n",
       "       0.70968809, 0.70521209, 0.70840794, 0.71190058, 0.72212982,\n",
       "       0.72582938, 0.73635534, 0.7381002 , 0.74513351, 0.74282506,\n",
       "       0.75072177, 0.76696802, 0.72925908, 0.72083466, 0.69231766,\n",
       "       0.71244024, 0.69452115, 0.6950548 , 0.70781734, 0.71311179,\n",
       "       0.70840193, 0.69986362, 0.68860909, 0.67709377, 0.6874399 ,\n",
       "       0.66386053, 0.66675965, 0.68231027, 0.69824172, 0.6934059 ,\n",
       "       0.70165942, 0.70699589, 0.6972883 , 0.71533036, 0.70105082,\n",
       "       0.71858015, 0.72679173, 0.73587863, 0.75299128, 0.74630871,\n",
       "       0.73933534, 0.73773746, 0.73787835, 0.72082265, 0.72567948,\n",
       "       0.72341297, 0.72878838, 0.73235598, 0.71304284, 0.70995788,\n",
       "       0.67408676, 0.685803  , 0.67376596, 0.68584193, 0.70350617,\n",
       "       0.72577537, 0.74586501, 0.74556221, 0.75787204, 0.75638204,\n",
       "       0.7645156 , 0.75382773, 0.7682601 , 0.78077978, 0.77556928,\n",
       "       0.76305561, 0.76727682, 0.75998265, 0.76599367, 0.78332809,\n",
       "       0.78160123, 0.78420956, 0.77919683, 0.79143471, 0.79340142,\n",
       "       0.79271486, 0.80242845, 0.80028183, 0.80336679, 0.79454368,\n",
       "       0.79312863, 0.79173751, 0.7869497 , 0.80107934, 0.80304298,\n",
       "       0.80943175, 0.80551333, 0.80116923, 0.79887278, 0.79969723,\n",
       "       0.80360964, 0.81329322, 0.81079886, 0.81229786, 0.81950208,\n",
       "       0.80288708, 0.81074491, 0.81712461, 0.83380856, 0.84007136,\n",
       "       0.83255541, 0.83302905, 0.83562237, 0.8313352 , 0.82315363,\n",
       "       0.83234549, 0.84821699, 0.84858274, 0.84510503, 0.8492693 ,\n",
       "       0.84754844, 0.81791312, 0.82888878, 0.8069614 , 0.82483554,\n",
       "       0.84056007, 0.84171726, 0.85418   , 0.85870401, 0.86732628,\n",
       "       0.86601912, 0.86561436, 0.86756307, 0.87309445, 0.8724229 ,\n",
       "       0.87204514, 0.86684057, 0.86466402, 0.85560705, 0.85706711,\n",
       "       0.87027628, 0.84146848, 0.83601505, 0.86319802, 0.8537453 ,\n",
       "       0.83858436, 0.82321958, 0.84524592, 0.83907307, 0.85528924,\n",
       "       0.86229562, 0.87444655, 0.87564575, 0.8833206 , 0.88145285,\n",
       "       0.88487362, 0.86728727, 0.86657978, 0.8748213 , 0.86580627,\n",
       "       0.8593965 , 0.86550647, 0.88499952, 0.88396522, 0.88020571,\n",
       "       0.8845048 , 0.8985895 , 0.91598987, 0.91479967, 0.91660148,\n",
       "       0.92176404, 0.93124669, 0.93100399, 0.93508116, 0.93000563,\n",
       "       0.94372443, 0.94823652, 0.94157781, 0.93308751, 0.94462383,\n",
       "       0.93309952, 0.94664749, 0.94888106, 0.94861127, 0.94754997,\n",
       "       0.95603134, 0.94694729, 0.95039207, 0.94199765, 0.94287597,\n",
       "       0.95307827, 0.96236609, 0.94912392, 0.93823214, 0.91153187,\n",
       "       0.92636   , 0.9447528 , 0.94158689, 0.93095597, 0.92731342,\n",
       "       0.94033674, 0.93935932, 0.95170809, 0.94903389, 0.95139043,\n",
       "       0.95285635, 0.9538247 , 0.95320416, 0.95502698, 0.95044901,\n",
       "       0.96155364, 0.96054328, 0.96076505, 0.9584536 , 0.9643388 ,\n",
       "       0.96681508, 0.96912654, 0.96656022, 0.95969789, 0.95914616,\n",
       "       0.94253431, 0.96002463, 0.96651528, 0.96513617, 0.97252637,\n",
       "       0.97678653, 0.97975745, 0.9801142 , 0.98182312, 0.98855063,\n",
       "       0.99826414, 0.99562596, 1.        , 0.98881442])"
      ]
     },
     "execution_count": 18,
     "metadata": {},
     "output_type": "execute_result"
    }
   ],
   "source": [
    "y_test"
   ]
  },
  {
   "cell_type": "code",
   "execution_count": 20,
   "metadata": {},
   "outputs": [],
   "source": [
    "# Get the predicted values\n",
    "predictions = model.predict(x_test)\n",
    "predictions = mmscaler.inverse_transform(predictions)\n",
    "y_test = mmscaler.inverse_transform(y_test.reshape(-1, 1))"
   ]
  },
  {
   "cell_type": "code",
   "execution_count": 21,
   "metadata": {},
   "outputs": [
    {
     "name": "stdout",
     "output_type": "stream",
     "text": [
      "RMSE: 124.6\n",
      "ME: 118.8\n",
      "MAE: 148.283930\n"
     ]
    }
   ],
   "source": [
    "# Get the root mean squarred error (RMSE)\n",
    "rmse = np.sqrt(np.mean(predictions - y_test)**2)\n",
    "print('RMSE: ' + str(round(rmse, 1)))\n",
    "\n",
    "# Get the meadian error (ME)\n",
    "me = np.median(y_test-predictions)\n",
    "print('ME: ' + str(round(me, 1)))\n",
    "\n",
    "# Get the mean absolute error\n",
    "mae = mean_absolute_error(y_test, predictions)\n",
    "print('MAE: %f' % mae)"
   ]
  },
  {
   "cell_type": "code",
   "execution_count": 22,
   "metadata": {
    "scrolled": false
   },
   "outputs": [
    {
     "data": {
      "image/png": "[encoded data removed]",
      "text/plain": [
       "<Figure size 1584x576 with 1 Axes>"
      ]
     },
     "metadata": {
      "needs_background": "light"
     },
     "output_type": "display_data"
    }
   ],
   "source": [
    "# The date from which on the date is displayed\n",
    "display_start_date = \"2017-06-01\" \n",
    "\n",
    "train_length = train_data.shape[0]\n",
    "# Add the difference between the valid and predicted prices\n",
    "train = data[:train_length + 1]\n",
    "valid = data[train_length:]\n",
    "valid.insert(1, \"Predictions\", predictions, True)\n",
    "valid.insert(1, \"Difference\", valid[\"Predictions\"] - valid[\"Close\"], True)\n",
    "\n",
    "# Zoom in to a closer timeframe\n",
    "valid = valid[valid.index > display_start_date]\n",
    "train = train[train.index > display_start_date]\n",
    "\n",
    "# Visualize the data\n",
    "fig, ax1 = plt.subplots(figsize=(22, 8), sharex=True)\n",
    "xt = train.index; yt = train[[\"Close\"]]\n",
    "xv = valid.index; yv = valid[[\"Close\", \"Predictions\"]]\n",
    "plt.title(\"Predictions vs Ground Truth\", fontsize=20)\n",
    "plt.ylabel(stockname, fontsize=18)\n",
    "plt.plot(yt, color=\"#039dfc\", linewidth=2.0)\n",
    "plt.plot(yv[\"Predictions\"], color=\"#E91D9E\", linewidth=2.0)\n",
    "plt.plot(yv[\"Close\"], color=\"black\", linewidth=2.0)\n",
    "plt.legend([\"Train\", \"Train Predictions\", \"Ground Truth\"], loc=\"upper left\")\n",
    "\n",
    "# Fill between plotlines\n",
    "ax1.fill_between(xt, 0, yt[\"Close\"], color=\"#b9e1fa\")\n",
    "ax1.fill_between(xv, 0, yv[\"Predictions\"], color=\"#F0845C\")\n",
    "ax1.fill_between(xv, yv[\"Close\"], yv[\"Predictions\"], color=\"grey\") \n",
    "\n",
    "# Create the bar plot with the differences\n",
    "x = valid.index\n",
    "y = valid[\"Difference\"]\n",
    "plt.bar(x, y, width=5, color=\"black\")\n",
    "plt.grid()\n",
    "plt.show()"
   ]
  },
  {
   "cell_type": "code",
   "execution_count": 23,
   "metadata": {},
   "outputs": [
    {
     "data": {
      "text/plain": [
       "<BarContainer object of 579 artists>"
      ]
     },
     "execution_count": 23,
     "metadata": {},
     "output_type": "execute_result"
    },
    {
     "data": {
      "image/png": "[encoded data removed]",
      "text/plain": [
       "<Figure size 1584x576 with 1 Axes>"
      ]
     },
     "metadata": {
      "needs_background": "light"
     },
     "output_type": "display_data"
    }
   ],
   "source": [
    "# Add the difference between the valid and predicted prices\n",
    "diffdf = valid\n",
    "differences = diffdf[\"Predictions\"] - diffdf[\"Close\"]\n",
    "diffdf.loc[:, \"difference\"] = differences\n",
    "x = diffdf.index\n",
    "y = diffdf[\"difference\"]\n",
    "\n",
    "# Create the bar plot with the differences\n",
    "plt.subplots(figsize=(22, 8))\n",
    "plt.grid()\n",
    "low = min(y)\n",
    "high = max(y)\n",
    "plt.ylim([low, high])\n",
    "plt.title(\"Differences between valid prices and price predictions\", fontsize=18)\n",
    "plt.bar(x, y, width=5, color=\"black\")"
   ]
  },
  {
   "cell_type": "markdown",
   "metadata": {},
   "source": [
    "# Step #6 Predict Next Day's Price"
   ]
  },
  {
   "cell_type": "code",
   "execution_count": 14,
   "metadata": {},
   "outputs": [
    {
     "name": "stdout",
     "output_type": "stream",
     "text": [
      "The close price for S&P500 at 2021-07-09 was 4320.82\n",
      "The predicted close price is 3996.72998046875 (+7.5%)\n"
     ]
    }
   ],
   "source": [
    "# Get fresh data until today and create a new dataframe with only the price data\n",
    "new_df = df.filter(['Close']).copy() \n",
    "\n",
    "# Get the last n day closing price values and scale the data to be values between 0 and 1\n",
    "last_weeks = new_df[-sequence_length:].values\n",
    "last_weeks_scaled = mmscaler.transform(last_weeks)\n",
    "\n",
    "# Create an empty list and append past n weeks\n",
    "X_test = []\n",
    "X_test.append(last_weeks)\n",
    "\n",
    "# Convert the X_test data set to a numpy array and reshape the data\n",
    "X_test = np.array(X_test)\n",
    "X_test = np.reshape(X_test, (X_test.shape[0], X_test.shape[1], 1))\n",
    "\n",
    "# Get the predicted scaled price and undo the scaling\n",
    "pred_price = model.predict(X_test)\n",
    "pred_price_unscaled = mmscaler.inverse_transform(pred_price)\n",
    "\n",
    "# Print last price and predicted price for the next day\n",
    "price_today = round(new_df['Close'][-1], 2)\n",
    "predicted_price = round(pred_price_unscaled.ravel()[0], 2)\n",
    "percent = round(100 - (predicted_price * 100)/price_today, 2)\n",
    "\n",
    "plus = '+'; minus = '-'\n",
    "print(f'The close price for {stockname} at {today} was {price_today}')\n",
    "print(f'The predicted close price is {predicted_price} ({plus if percent > 0 else minus}{percent}%)')"
   ]
  }
 ],
 "metadata": {
  "kernelspec": {
   "display_name": "Python 3",
   "language": "python",
   "name": "python3"
  },
  "language_info": {
   "codemirror_mode": {
    "name": "ipython",
    "version": 3
   },
   "file_extension": ".py",
   "mimetype": "text/x-python",
   "name": "python",
   "nbconvert_exporter": "python",
   "pygments_lexer": "ipython3",
   "version": "3.9.6"
  }
 },
 "nbformat": 4,
 "nbformat_minor": 4
}
